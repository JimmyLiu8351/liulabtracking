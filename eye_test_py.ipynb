{
  "nbformat": 4,
  "nbformat_minor": 0,
  "metadata": {
    "colab": {
      "name": "eye_test.py",
      "provenance": [],
      "collapsed_sections": [],
      "authorship_tag": "ABX9TyM+xL/fltkmmZLRKGcjqyz/",
      "include_colab_link": true
    },
    "kernelspec": {
      "name": "python3",
      "display_name": "Python 3"
    }
  },
  "cells": [
    {
      "cell_type": "markdown",
      "metadata": {
        "id": "view-in-github",
        "colab_type": "text"
      },
      "source": [
        "<a href=\"https://colab.research.google.com/github/JimmyLiu8351/liulabtracking/blob/main/eye_test_py.ipynb\" target=\"_parent\"><img src=\"https://colab.research.google.com/assets/colab-badge.svg\" alt=\"Open In Colab\"/></a>"
      ]
    },
    {
      "cell_type": "code",
      "metadata": {
        "id": "wzLp7ssS88CL",
        "colab": {
          "base_uri": "https://localhost:8080/"
        },
        "outputId": "2a398dd0-43d7-4e76-d82e-5c6defdcea05"
      },
      "source": [
        "import cv2\n",
        "import numpy as np\n",
        "import math\n",
        "\n",
        "from google.colab.patches import cv2_imshow\n",
        "from tqdm import tqdm\n",
        "from multiprocessing import Pool, Process, Queue, Manager\n",
        "\n",
        "from google.colab import drive\n",
        "drive.mount('/content/gdrive')"
      ],
      "execution_count": 24,
      "outputs": [
        {
          "output_type": "stream",
          "text": [
            "Drive already mounted at /content/gdrive; to attempt to forcibly remount, call drive.mount(\"/content/gdrive\", force_remount=True).\n"
          ],
          "name": "stdout"
        }
      ]
    },
    {
      "cell_type": "code",
      "metadata": {
        "id": "9X5jjkTrOGX5"
      },
      "source": [
        "def createLineIterator(P1, P2, img):\r\n",
        "    \"\"\"\r\n",
        "    Produces and array that consists of the coordinates and intensities of each pixel in a line between two points\r\n",
        "\r\n",
        "    Parameters:\r\n",
        "        -P1: a numpy array that consists of the coordinate of the first point (x,y)\r\n",
        "        -P2: a numpy array that consists of the coordinate of the second point (x,y)\r\n",
        "        -img: the image being processed\r\n",
        "\r\n",
        "    Returns:\r\n",
        "        -it: a numpy array that consists of the coordinates and intensities of each pixel in the radii (shape: [numPixels, 3], row = [x,y,intensity])     \r\n",
        "    \"\"\"\r\n",
        "    #define local variables for readability\r\n",
        "    imageH = img.shape[0]\r\n",
        "    imageW = img.shape[1]\r\n",
        "    P1X = P1[0]\r\n",
        "    P1Y = P1[1]\r\n",
        "    P2X = P2[0]\r\n",
        "    P2Y = P2[1]\r\n",
        "\r\n",
        "    #difference and absolute difference between points\r\n",
        "    #used to calculate slope and relative location between points\r\n",
        "    dX = P2X - P1X\r\n",
        "    dY = P2Y - P1Y\r\n",
        "    dXa = np.abs(dX)\r\n",
        "    dYa = np.abs(dY)\r\n",
        "\r\n",
        "    #predefine numpy array for output based on distance between points\r\n",
        "    itbuffer = np.empty(shape=(np.maximum(dYa,dXa),3),dtype=np.float32)\r\n",
        "    itbuffer.fill(np.nan)\r\n",
        "\r\n",
        "    #Obtain coordinates along the line using a form of Bresenham's algorithm\r\n",
        "    negY = P1Y > P2Y\r\n",
        "    negX = P1X > P2X\r\n",
        "    if P1X == P2X: #vertical line segment\r\n",
        "        itbuffer[:,0] = P1X\r\n",
        "        if negY:\r\n",
        "            itbuffer[:,1] = np.arange(P1Y - 1,P1Y - dYa - 1,-1)\r\n",
        "        else:\r\n",
        "            itbuffer[:,1] = np.arange(P1Y+1,P1Y+dYa+1)              \r\n",
        "    elif P1Y == P2Y: #horizontal line segment\r\n",
        "        itbuffer[:,1] = P1Y\r\n",
        "        if negX:\r\n",
        "            itbuffer[:,0] = np.arange(P1X-1,P1X-dXa-1,-1)\r\n",
        "        else:\r\n",
        "            itbuffer[:,0] = np.arange(P1X+1,P1X+dXa+1)\r\n",
        "    else: #diagonal line segment\r\n",
        "        steepSlope = dYa > dXa\r\n",
        "        if steepSlope:\r\n",
        "            slope = dX.astype(np.float32)/dY.astype(np.float32)\r\n",
        "            if negY:\r\n",
        "                itbuffer[:,1] = np.arange(P1Y-1,P1Y-dYa-1,-1)\r\n",
        "            else:\r\n",
        "                itbuffer[:,1] = np.arange(P1Y+1,P1Y+dYa+1)\r\n",
        "            itbuffer[:,0] = (slope*(itbuffer[:,1]-P1Y)).astype(np.int) + P1X\r\n",
        "        else:\r\n",
        "            slope = dY.astype(np.float32)/dX.astype(np.float32)\r\n",
        "            if negX:\r\n",
        "                itbuffer[:,0] = np.arange(P1X-1,P1X-dXa-1,-1)\r\n",
        "            else:\r\n",
        "                itbuffer[:,0] = np.arange(P1X+1,P1X+dXa+1)\r\n",
        "            itbuffer[:,1] = (slope*(itbuffer[:,0]-P1X)).astype(np.int) + P1Y\r\n",
        "\r\n",
        "    #Remove points outside of image\r\n",
        "    colX = itbuffer[:,0]\r\n",
        "    colY = itbuffer[:,1]\r\n",
        "    itbuffer = itbuffer[(colX >= 0) & (colY >=0) & (colX<imageW) & (colY<imageH)]\r\n",
        "\r\n",
        "    #Get intensities from img ndarray\r\n",
        "    itbuffer[:,2] = img[itbuffer[:,1].astype(np.uint),itbuffer[:,0].astype(np.uint)]\r\n",
        "\r\n",
        "    return itbuffer"
      ],
      "execution_count": 2,
      "outputs": []
    },
    {
      "cell_type": "code",
      "metadata": {
        "id": "gN7svmg_SJov"
      },
      "source": [
        "def gradx(img):\n",
        "    img = img.astype('int')\n",
        "    rows, cols = img.shape\n",
        "    # Use hstack to add back in the columns that were dropped as zeros\n",
        "    return np.hstack( (np.zeros((rows, 1)), (img[:, 2:] - img[:, :-2])/2.0, np.zeros((rows, 1))) )"
      ],
      "execution_count": 3,
      "outputs": []
    },
    {
      "cell_type": "code",
      "metadata": {
        "id": "ssVQM7WLSK3-"
      },
      "source": [
        "def grady(img):\n",
        "    img = img.astype('int')\n",
        "    rows, cols = img.shape\n",
        "    # Use vstack to add back the rows that were dropped as zeros\n",
        "    return np.vstack( (np.zeros((1, cols)), (img[2:, :] - img[:-2, :])/2.0, np.zeros((1, cols))) )"
      ],
      "execution_count": 4,
      "outputs": []
    },
    {
      "cell_type": "code",
      "metadata": {
        "id": "0dPlG9v2SXkI"
      },
      "source": [
        "#Performs fast radial symmetry transform\n",
        "#img: input image, grayscale\n",
        "#radii: integer value for radius size in pixels (n in the original paper); also used to size gaussian kernel\n",
        "#alpha: Strictness of symmetry transform (higher=more strict; 2 is good place to start)\n",
        "#beta: gradient threshold parameter, float in [0,1]\n",
        "#stdFactor: Standard deviation factor for gaussian kernel\n",
        "#mode: BRIGHT, DARK, or BOTH\n",
        "def frst(img, radii, alpha, beta, stdFactor, mode='BOTH'):\n",
        "    mode = mode.upper()\n",
        "    assert mode in ['BRIGHT', 'DARK', 'BOTH']\n",
        "    dark = (mode == 'DARK' or mode == 'BOTH')\n",
        "    bright = (mode == 'BRIGHT' or mode == 'BOTH')\n",
        "\n",
        "    workingDims = tuple((e + 2*radii) for e in img.shape)\n",
        "\n",
        "    #M and O working matrices\n",
        "    O_n = np.zeros(workingDims, np.int16)\n",
        "    M_n = np.zeros(workingDims, np.int16)\n",
        "\n",
        "    #Calculate gradients\n",
        "    gx = gradx(img)\n",
        "    gy = grady(img)\n",
        "\n",
        "    #Find gradient vector magnitude\n",
        "    gnorms = np.sqrt( np.add( np.multiply(gx, gx) , np.multiply(gy, gy) ) )\n",
        "\n",
        "    #Use beta to set threshold - speeds up transform significantly\n",
        "    gthresh = np.amax(gnorms)*beta\n",
        "\n",
        "    #Find x/y distance to affected pixels\n",
        "    gpx = np.multiply(np.divide(gx, gnorms, out=np.zeros(gx.shape), where=gnorms!=0), radii).round().astype(int);\n",
        "    gpy = np.multiply(np.divide(gy, gnorms, out=np.zeros(gy.shape), where=gnorms!=0), radii).round().astype(int);\n",
        "\n",
        "    #Iterate over all pixels (w/ gradient above threshold)\n",
        "    for coords, gnorm in np.ndenumerate(gnorms):\n",
        "        if gnorm > gthresh:\n",
        "            i, j = coords\n",
        "            #Positively affected pixel\n",
        "            if bright:\n",
        "                ppve = (i+gpy[i,j]+radii, j+gpx[i,j]+radii)\n",
        "                O_n[ppve] += 1\n",
        "                M_n[ppve] += gnorm\n",
        "            #Negatively affected pixel\n",
        "            if dark:\n",
        "                pnve = (i-gpy[i,j]+radii, j-gpx[i,j]+radii)\n",
        "                O_n[pnve] -= 1\n",
        "                M_n[pnve] -= gnorm\n",
        "\n",
        "    \n",
        "\n",
        "    #Abs and normalize O matrix\n",
        "    O_n = np.abs(O_n)\n",
        "    O_n = O_n / float(np.amax(O_n))\n",
        "\n",
        "    #Normalize M matrix\n",
        "    M_max = float(np.amax(np.abs(M_n)))\n",
        "    M_n = M_n / M_max\n",
        "\n",
        "    #Elementwise multiplication\n",
        "    F_n = np.multiply(np.power(O_n, alpha), M_n)\n",
        "\n",
        "    #Gaussian blur\n",
        "    kSize = int( np.ceil( radii / 2 ) )\n",
        "    kSize = kSize + 1 if kSize % 2 == 0 else kSize\n",
        "\n",
        "    S = cv2.GaussianBlur(F_n, (kSize, kSize), int( radii * stdFactor ))\n",
        "    \n",
        "    return S[radii:-radii,radii:-radii]"
      ],
      "execution_count": 5,
      "outputs": []
    },
    {
      "cell_type": "code",
      "metadata": {
        "id": "epeAKWwQ9W5V"
      },
      "source": [
        "def rough_corneal_remove(gray_frame, replace_val):\n",
        "    # roughly removing corneal reflection\n",
        "    blur_frame = cv2.blur(gray_frame, (5, 5))\n",
        "    ret, thresh_frame = cv2.threshold(blur_frame, 100, 255, cv2.THRESH_BINARY)\n",
        "\n",
        "    for (x, y), value in np.ndenumerate(thresh_frame):\n",
        "        if value > 0:\n",
        "            gray_frame[x, y] = replace_val\n",
        "    \n",
        "    return cv2.blur(gray_frame, (5, 5))"
      ],
      "execution_count": 6,
      "outputs": []
    },
    {
      "cell_type": "code",
      "metadata": {
        "id": "RSzNRhVDw-xZ"
      },
      "source": [
        "def estimate(frame, radius_lst):\n",
        "    # convert frame to grayscale\n",
        "    if len(frame.shape) != 2:\n",
        "        gray_frame = cv2.cvtColor(frame, cv2.COLOR_BGR2GRAY)\n",
        "    else:\n",
        "        gray_frame = frame\n",
        "\n",
        "    gray_frame = rough_corneal_remove(gray_frame, np.mean(gray_frame))\n",
        "\n",
        "    #frst\n",
        "    frst_sum = np.zeros(gray_frame.shape)\n",
        "    for i in radius_lst:\n",
        "        result = frst(gray_frame, i, 2, 0.2, 0, mode='DARK')\n",
        "        frst_sum = np.add(frst_sum, result)\n",
        "\n",
        "    # argmin finds the min index as if frst_sum is flattened,\n",
        "    # so we have to reverse that using unravel_index\n",
        "    eye_estimate = np.unravel_index(frst_sum.argmin(), frst_sum.shape)[::-1]\n",
        "    \n",
        "    return eye_estimate"
      ],
      "execution_count": 7,
      "outputs": []
    },
    {
      "cell_type": "code",
      "metadata": {
        "id": "0nX4onh6TT57"
      },
      "source": [
        "def starburst(frame, eye):\n",
        "    PIVOT_ANGLE = 15\n",
        "    LINE_LENGTH = 30\n",
        "    DETECTION_THRESHOLD = 4\n",
        "    CORNEAL_REFLECTION_SEARCH_SIZE = 10\n",
        "\n",
        "    # convert frame to grayscale\n",
        "    if len(frame.shape) != 2:\n",
        "        gray_frame = cv2.cvtColor(frame, cv2.COLOR_BGR2GRAY)\n",
        "    else:\n",
        "        gray_frame = frame\n",
        "\n",
        "    gray_frame = cv2.blur(gray_frame, (5, 5))\n",
        "\n",
        "    test_frame = frame.copy()\n",
        "\n",
        "    feature_points = []\n",
        "    distances = []\n",
        "\n",
        "    for degree in range(0, 360, PIVOT_ANGLE):\n",
        "\n",
        "        radian = degree * math.pi / 180\n",
        "        edge = (int(eye[0] + LINE_LENGTH * math.cos(radian)), \n",
        "                int(eye[1] + LINE_LENGTH * math.sin(radian)))\n",
        "        \n",
        "        line_points = [tupl for tupl in createLineIterator(eye, edge, gray_frame)]\n",
        "        derivative = []\n",
        "\n",
        "        prev_intensity = None\n",
        "        for tupl in line_points:\n",
        "            if prev_intensity is not None:\n",
        "                derivative.append(tupl[2] - prev_intensity)            \n",
        "            prev_intensity = tupl[2]\n",
        "        \n",
        "        for i in range(len(derivative)):\n",
        "            if derivative[i] > DETECTION_THRESHOLD:\n",
        "                corneal_reflection = False\n",
        "                peak_idx = i\n",
        "                for j in range(i + 1, len(derivative)):\n",
        "                    # detecting maximum slope\n",
        "                    if derivative[j] > derivative[peak_idx]:\n",
        "                        peak_idx = j\n",
        "                    # detecting corneal reflection\n",
        "                    elif derivative[j] < -1 * DETECTION_THRESHOLD:\n",
        "                        corneal_reflection = True\n",
        "                    # stop if too long distance\n",
        "                    elif j - peak_idx > CORNEAL_REFLECTION_SEARCH_SIZE:\n",
        "                        break\n",
        "\n",
        "                if not corneal_reflection:\n",
        "                    feature_points.append(line_points[peak_idx][:-1])\n",
        "\n",
        "                break\n",
        "        \n",
        "\n",
        "    return np.array(feature_points)\n",
        "\n"
      ],
      "execution_count": 8,
      "outputs": []
    },
    {
      "cell_type": "code",
      "metadata": {
        "id": "e_RzcFqR9CLt"
      },
      "source": [
        "# opening the video in videocapture\n",
        "\n",
        "file_path = \"/content/gdrive/MyDrive/mouse_eye_tracking/fixedSFblink.avi\"\n",
        "vidcap = cv2.VideoCapture(file_path)"
      ],
      "execution_count": 9,
      "outputs": []
    },
    {
      "cell_type": "code",
      "metadata": {
        "id": "z7wH5r0oF0jd",
        "colab": {
          "base_uri": "https://localhost:8080/",
          "height": 112
        },
        "outputId": "26b41de4-d2b0-47de-bf7b-b2ab408af4ee"
      },
      "source": [
        "# reading the frame from video\n",
        "\n",
        "#for i in range(200):\n",
        "#    ret, frame = vidcap.read()\n",
        "\n",
        "ret, frame = vidcap.read()\n",
        "\n",
        "frame = frame[80:175, 100:200]\n",
        "cv2_imshow(frame)"
      ],
      "execution_count": 128,
      "outputs": [
        {
          "output_type": "display_data",
          "data": {
            "image/png": "[encoded data removed]",
            "text/plain": [
              "<PIL.Image.Image image mode=RGB size=100x95 at 0x7F3FC23EB320>"
            ]
          },
          "metadata": {
            "tags": []
          }
        }
      ]
    },
    {
      "cell_type": "code",
      "metadata": {
        "id": "OFqehwjlT8ms",
        "colab": {
          "base_uri": "https://localhost:8080/",
          "height": 112
        },
        "outputId": "4cc323b2-2731-46e6-8356-64a404a67975"
      },
      "source": [
        "# eye estimate example\n",
        "eye = estimate(frame, [14, 16, 18])\n",
        "cv2.circle(frame, eye, 5, (0, 0, 255))\n",
        "cv2_imshow(frame)"
      ],
      "execution_count": 112,
      "outputs": [
        {
          "output_type": "display_data",
          "data": {
            "image/png": "[encoded data removed]",
            "text/plain": [
              "<PIL.Image.Image image mode=RGB size=100x95 at 0x7F3FB1AEAF98>"
            ]
          },
          "metadata": {
            "tags": []
          }
        }
      ]
    },
    {
      "cell_type": "code",
      "metadata": {
        "id": "OMimC26eadCS",
        "colab": {
          "base_uri": "https://localhost:8080/",
          "height": 112
        },
        "outputId": "7e06c13a-2c66-46c2-fdca-bea2be6bc6ac"
      },
      "source": [
        "# starburst example\n",
        "eye = estimate(frame, [10, 12, 14])\n",
        "contour = starburst(frame, eye)\n",
        "\n",
        "for point in contour:\n",
        "    cv2.circle(frame, tuple(point), 1, (255, 255, 255))\n",
        "\n",
        "cv2_imshow(frame)\n"
      ],
      "execution_count": 126,
      "outputs": [
        {
          "output_type": "display_data",
          "data": {
            "image/png": "[encoded data removed]",
            "text/plain": [
              "<PIL.Image.Image image mode=RGB size=100x95 at 0x7F3FA9A228D0>"
            ]
          },
          "metadata": {
            "tags": []
          }
        }
      ]
    },
    {
      "cell_type": "code",
      "metadata": {
        "id": "a6FswRd5MiGe",
        "colab": {
          "base_uri": "https://localhost:8080/",
          "height": 112
        },
        "outputId": "bf7f99ec-1784-43a4-a89a-43c3beb76102"
      },
      "source": [
        "# elippse fitting example\n",
        "eye = estimate(frame, [10, 12, 14])\n",
        "contour = starburst(frame, eye)\n",
        "fitted_ellipse = cv2.fitEllipse(contour)\n",
        "cv2.ellipse(frame, fitted_ellipse, (255, 255, 255), 1)\n",
        "cv2_imshow(frame)"
      ],
      "execution_count": 129,
      "outputs": [
        {
          "output_type": "display_data",
          "data": {
            "image/png": "[encoded data removed]",
            "text/plain": [
              "<PIL.Image.Image image mode=RGB size=100x95 at 0x7F3FC23EB160>"
            ]
          },
          "metadata": {
            "tags": []
          }
        }
      ]
    },
    {
      "cell_type": "code",
      "metadata": {
        "id": "aSHlIeLzyLdA"
      },
      "source": [
        "def non_realtime_scheduler(filepath, process_count):\r\n",
        "    Y_MIN = 80\r\n",
        "    Y_MAX = 175\r\n",
        "    X_MIN = 100\r\n",
        "    X_MAX = 200\r\n",
        "    STARBURST_TO_FRST_RATIO = 5\r\n",
        "    EYE_SIZE_RANGE = [10, 12, 14]\r\n",
        "\r\n",
        "    vidcap = cv2.VideoCapture(filepath)\r\n",
        "    ret, frame = vidcap.read() # first frame is blank\r\n",
        "\r\n",
        "    progress_bar = tqdm(total=int(vidcap.get(cv2.CAP_PROP_FRAME_COUNT)))\r\n",
        "\r\n",
        "    with Pool(processes=process_count) as pool:\r\n",
        "        m = Manager()\r\n",
        "        output_queue = m.Queue()\r\n",
        "        while ret:\r\n",
        "            ret, frame = vidcap.read()        \r\n",
        "            frame = frame[Y_MIN:Y_MAX, X_MIN:X_MAX] #crop\r\n",
        "            eye = estimate(frame, EYE_SIZE_RANGE)\r\n",
        "            \r\n",
        "            frames = []\r\n",
        "            for i in range(STARBURST_TO_FRST_RATIO):\r\n",
        "                ret, frame = vidcap.read()\r\n",
        "                frame = frame[Y_MIN:Y_MAX, X_MIN:X_MAX] #crop\r\n",
        "                frames.append((eye, frame, output_queue, i))\r\n",
        "\r\n",
        "            pool.map(non_realtime_function, frames)\r\n",
        "\r\n",
        "            ellipses = []\r\n",
        "            for i in range(STARBURST_TO_FRST_RATIO):\r\n",
        "                ellipses.append(output_queue.get(block=True))\r\n",
        "            \r\n",
        "            ellipses = sorted(ellipses, key=lambda ellipse: ellipse[0])\r\n",
        "\r\n",
        "            progress_bar.update(n=1)\r\n"
      ],
      "execution_count": 31,
      "outputs": []
    },
    {
      "cell_type": "code",
      "metadata": {
        "id": "mWYZdh-Y_9Lw"
      },
      "source": [
        "def non_realtime_function(input):\r\n",
        "    eye = input[0]\r\n",
        "    frame = input[1]\r\n",
        "    output_queue = input[2]\r\n",
        "    idx = input[3]\r\n",
        "\r\n",
        "    contour = starburst(frame, eye)\r\n",
        "    fitted_ellipse = cv2.fitEllipse(contour)\r\n",
        "    output_queue.put((idx, fitted_ellipse))"
      ],
      "execution_count": 29,
      "outputs": []
    },
    {
      "cell_type": "code",
      "metadata": {
        "id": "UpBDsAOCfEmN",
        "colab": {
          "base_uri": "https://localhost:8080/",
          "height": 1000
        },
        "outputId": "31de6ba1-82e9-4596-cfc7-7a4de7d9bd4a"
      },
      "source": [
        "file_path = \"/content/gdrive/MyDrive/mouse_eye_tracking/fixedSFblink.avi\"\n",
        "non_realtime_scheduler(file_path, 4)"
      ],
      "execution_count": 32,
      "outputs": [
        {
          "output_type": "stream",
          "text": [
            "\n",
            "  0%|          | 0/24002 [00:00<?, ?it/s]\u001b[A\n",
            "  0%|          | 1/24002 [00:00<1:00:27,  6.62it/s]\u001b[A\n",
            "  0%|          | 3/24002 [00:00<52:55,  7.56it/s]  \u001b[A\n",
            "  0%|          | 5/24002 [00:00<47:34,  8.41it/s]\u001b[A\n",
            "  0%|          | 7/24002 [00:00<43:44,  9.14it/s]\u001b[A\n",
            "  0%|          | 8/24002 [00:00<43:04,  9.28it/s]\u001b[A\n",
            "  0%|          | 10/24002 [00:00<40:36,  9.85it/s]\u001b[A\n",
            "  0%|          | 12/24002 [00:01<39:41, 10.07it/s]\u001b[A\n",
            "  0%|          | 14/24002 [00:01<38:26, 10.40it/s]\u001b[A\n",
            "  0%|          | 16/24002 [00:01<37:55, 10.54it/s]\u001b[A\n",
            "  0%|          | 18/24002 [00:01<37:46, 10.58it/s]\u001b[A\n",
            "  0%|          | 20/24002 [00:01<37:14, 10.73it/s]\u001b[A\n",
            "  0%|          | 22/24002 [00:02<37:10, 10.75it/s]\u001b[A\n",
            "  0%|          | 24/24002 [00:02<37:47, 10.57it/s]\u001b[A\n",
            "  0%|          | 26/24002 [00:02<37:53, 10.55it/s]\u001b[A\n",
            "  0%|          | 28/24002 [00:02<38:13, 10.45it/s]\u001b[A\n",
            "  0%|          | 30/24002 [00:02<37:39, 10.61it/s]\u001b[A\n",
            "  0%|          | 32/24002 [00:03<37:08, 10.75it/s]\u001b[A\n",
            "  0%|          | 34/24002 [00:03<37:24, 10.68it/s]\u001b[A\n",
            "  0%|          | 36/24002 [00:03<37:48, 10.57it/s]\u001b[A\n",
            "  0%|          | 38/24002 [00:03<37:46, 10.57it/s]\u001b[A\n",
            "  0%|          | 40/24002 [00:03<37:31, 10.64it/s]\u001b[A\n",
            "  0%|          | 42/24002 [00:03<37:12, 10.73it/s]\u001b[A\n",
            "  0%|          | 44/24002 [00:04<37:44, 10.58it/s]\u001b[A\n",
            "  0%|          | 46/24002 [00:04<38:22, 10.40it/s]\u001b[A\n",
            "  0%|          | 48/24002 [00:04<38:13, 10.45it/s]\u001b[A\n",
            "  0%|          | 50/24002 [00:04<37:53, 10.54it/s]\u001b[AProcess ForkPoolWorker-21:\n",
            "Process ForkPoolWorker-22:\n",
            "Process ForkPoolWorker-24:\n",
            "Traceback (most recent call last):\n",
            "  File \"/usr/lib/python3.6/multiprocessing/process.py\", line 258, in _bootstrap\n",
            "    self.run()\n",
            "  File \"/usr/lib/python3.6/multiprocessing/process.py\", line 93, in run\n",
            "    self._target(*self._args, **self._kwargs)\n",
            "  File \"/usr/lib/python3.6/multiprocessing/pool.py\", line 108, in worker\n",
            "    task = get()\n",
            "Process ForkPoolWorker-23:\n",
            "Traceback (most recent call last):\n",
            "  File \"/usr/lib/python3.6/multiprocessing/queues.py\", line 335, in get\n",
            "    res = self._reader.recv_bytes()\n",
            "  File \"/usr/lib/python3.6/multiprocessing/connection.py\", line 216, in recv_bytes\n",
            "    buf = self._recv_bytes(maxlength)\n",
            "Traceback (most recent call last):\n",
            "  File \"/usr/lib/python3.6/multiprocessing/process.py\", line 258, in _bootstrap\n",
            "    self.run()\n",
            "Traceback (most recent call last):\n",
            "  File \"/usr/lib/python3.6/multiprocessing/process.py\", line 258, in _bootstrap\n",
            "    self.run()\n",
            "  File \"/usr/lib/python3.6/multiprocessing/connection.py\", line 407, in _recv_bytes\n",
            "    buf = self._recv(4)\n",
            "  File \"/usr/lib/python3.6/multiprocessing/connection.py\", line 379, in _recv\n",
            "    chunk = read(handle, remaining)\n",
            "  File \"/usr/lib/python3.6/multiprocessing/process.py\", line 258, in _bootstrap\n",
            "    self.run()\n",
            "  File \"/usr/lib/python3.6/multiprocessing/process.py\", line 93, in run\n",
            "    self._target(*self._args, **self._kwargs)\n",
            "  File \"/usr/lib/python3.6/multiprocessing/process.py\", line 93, in run\n",
            "    self._target(*self._args, **self._kwargs)\n",
            "KeyboardInterrupt\n",
            "  File \"/usr/lib/python3.6/multiprocessing/pool.py\", line 108, in worker\n",
            "    task = get()\n",
            "  File \"/usr/lib/python3.6/multiprocessing/queues.py\", line 334, in get\n",
            "    with self._rlock:\n",
            "  File \"/usr/lib/python3.6/multiprocessing/process.py\", line 93, in run\n",
            "    self._target(*self._args, **self._kwargs)\n",
            "  File \"/usr/lib/python3.6/multiprocessing/pool.py\", line 108, in worker\n",
            "    task = get()\n",
            "  File \"/usr/lib/python3.6/multiprocessing/synchronize.py\", line 95, in __enter__\n",
            "    return self._semlock.__enter__()\n",
            "KeyboardInterrupt\n",
            "  File \"/usr/lib/python3.6/multiprocessing/pool.py\", line 108, in worker\n",
            "    task = get()\n",
            "  File \"/usr/lib/python3.6/multiprocessing/queues.py\", line 334, in get\n",
            "    with self._rlock:\n",
            "  File \"/usr/lib/python3.6/multiprocessing/queues.py\", line 334, in get\n",
            "    with self._rlock:\n",
            "  File \"/usr/lib/python3.6/multiprocessing/synchronize.py\", line 95, in __enter__\n",
            "    return self._semlock.__enter__()\n",
            "KeyboardInterrupt\n",
            "  File \"/usr/lib/python3.6/multiprocessing/synchronize.py\", line 95, in __enter__\n",
            "    return self._semlock.__enter__()\n",
            "KeyboardInterrupt\n",
            "\n",
            "  0%|          | 51/24002 [00:17<37:53, 10.54it/s]\u001b[A"
          ],
          "name": "stderr"
        },
        {
          "output_type": "error",
          "ename": "KeyboardInterrupt",
          "evalue": "ignored",
          "traceback": [
            "\u001b[0;31m---------------------------------------------------------------------------\u001b[0m",
            "\u001b[0;31mKeyboardInterrupt\u001b[0m                         Traceback (most recent call last)",
            "\u001b[0;32m<ipython-input-31-0f0aadd4c038>\u001b[0m in \u001b[0;36mnon_realtime_scheduler\u001b[0;34m(filepath, process_count)\u001b[0m\n\u001b[1;32m     19\u001b[0m             \u001b[0mframe\u001b[0m \u001b[0;34m=\u001b[0m \u001b[0mframe\u001b[0m\u001b[0;34m[\u001b[0m\u001b[0mY_MIN\u001b[0m\u001b[0;34m:\u001b[0m\u001b[0mY_MAX\u001b[0m\u001b[0;34m,\u001b[0m \u001b[0mX_MIN\u001b[0m\u001b[0;34m:\u001b[0m\u001b[0mX_MAX\u001b[0m\u001b[0;34m]\u001b[0m \u001b[0;31m#crop\u001b[0m\u001b[0;34m\u001b[0m\u001b[0;34m\u001b[0m\u001b[0m\n\u001b[0;32m---> 20\u001b[0;31m             \u001b[0meye\u001b[0m \u001b[0;34m=\u001b[0m \u001b[0mestimate\u001b[0m\u001b[0;34m(\u001b[0m\u001b[0mframe\u001b[0m\u001b[0;34m,\u001b[0m \u001b[0mEYE_SIZE_RANGE\u001b[0m\u001b[0;34m)\u001b[0m\u001b[0;34m\u001b[0m\u001b[0;34m\u001b[0m\u001b[0m\n\u001b[0m\u001b[1;32m     21\u001b[0m \u001b[0;34m\u001b[0m\u001b[0m\n",
            "\u001b[0;32m<ipython-input-7-88efab5d70b2>\u001b[0m in \u001b[0;36mestimate\u001b[0;34m(frame, radius_lst)\u001b[0m\n\u001b[1;32m     12\u001b[0m     \u001b[0;32mfor\u001b[0m \u001b[0mi\u001b[0m \u001b[0;32min\u001b[0m \u001b[0mradius_lst\u001b[0m\u001b[0;34m:\u001b[0m\u001b[0;34m\u001b[0m\u001b[0;34m\u001b[0m\u001b[0m\n\u001b[0;32m---> 13\u001b[0;31m         \u001b[0mresult\u001b[0m \u001b[0;34m=\u001b[0m \u001b[0mfrst\u001b[0m\u001b[0;34m(\u001b[0m\u001b[0mgray_frame\u001b[0m\u001b[0;34m,\u001b[0m \u001b[0mi\u001b[0m\u001b[0;34m,\u001b[0m \u001b[0;36m2\u001b[0m\u001b[0;34m,\u001b[0m \u001b[0;36m0.2\u001b[0m\u001b[0;34m,\u001b[0m \u001b[0;36m0\u001b[0m\u001b[0;34m,\u001b[0m \u001b[0mmode\u001b[0m\u001b[0;34m=\u001b[0m\u001b[0;34m'DARK'\u001b[0m\u001b[0;34m)\u001b[0m\u001b[0;34m\u001b[0m\u001b[0;34m\u001b[0m\u001b[0m\n\u001b[0m\u001b[1;32m     14\u001b[0m         \u001b[0mfrst_sum\u001b[0m \u001b[0;34m=\u001b[0m \u001b[0mnp\u001b[0m\u001b[0;34m.\u001b[0m\u001b[0madd\u001b[0m\u001b[0;34m(\u001b[0m\u001b[0mfrst_sum\u001b[0m\u001b[0;34m,\u001b[0m \u001b[0mresult\u001b[0m\u001b[0;34m)\u001b[0m\u001b[0;34m\u001b[0m\u001b[0;34m\u001b[0m\u001b[0m\n",
            "\u001b[0;32m<ipython-input-5-b3a23d20ef59>\u001b[0m in \u001b[0;36mfrst\u001b[0;34m(img, radii, alpha, beta, stdFactor, mode)\u001b[0m\n\u001b[1;32m     46\u001b[0m                 \u001b[0mO_n\u001b[0m\u001b[0;34m[\u001b[0m\u001b[0mpnve\u001b[0m\u001b[0;34m]\u001b[0m \u001b[0;34m-=\u001b[0m \u001b[0;36m1\u001b[0m\u001b[0;34m\u001b[0m\u001b[0;34m\u001b[0m\u001b[0m\n\u001b[0;32m---> 47\u001b[0;31m                 \u001b[0mM_n\u001b[0m\u001b[0;34m[\u001b[0m\u001b[0mpnve\u001b[0m\u001b[0;34m]\u001b[0m \u001b[0;34m-=\u001b[0m \u001b[0mgnorm\u001b[0m\u001b[0;34m\u001b[0m\u001b[0;34m\u001b[0m\u001b[0m\n\u001b[0m\u001b[1;32m     48\u001b[0m \u001b[0;34m\u001b[0m\u001b[0m\n",
            "\u001b[0;31mKeyboardInterrupt\u001b[0m: ",
            "\nDuring handling of the above exception, another exception occurred:\n",
            "\u001b[0;31mKeyboardInterrupt\u001b[0m                         Traceback (most recent call last)",
            "\u001b[0;32m<ipython-input-32-62fcffdb832d>\u001b[0m in \u001b[0;36m<module>\u001b[0;34m()\u001b[0m\n\u001b[1;32m      1\u001b[0m \u001b[0mfile_path\u001b[0m \u001b[0;34m=\u001b[0m \u001b[0;34m\"/content/gdrive/MyDrive/mouse_eye_tracking/fixedSFblink.avi\"\u001b[0m\u001b[0;34m\u001b[0m\u001b[0;34m\u001b[0m\u001b[0m\n\u001b[0;32m----> 2\u001b[0;31m \u001b[0mnon_realtime_scheduler\u001b[0m\u001b[0;34m(\u001b[0m\u001b[0mfile_path\u001b[0m\u001b[0;34m,\u001b[0m \u001b[0;36m4\u001b[0m\u001b[0;34m)\u001b[0m\u001b[0;34m\u001b[0m\u001b[0;34m\u001b[0m\u001b[0m\n\u001b[0m",
            "\u001b[0;32m<ipython-input-31-0f0aadd4c038>\u001b[0m in \u001b[0;36mnon_realtime_scheduler\u001b[0;34m(filepath, process_count)\u001b[0m\n\u001b[1;32m     34\u001b[0m             \u001b[0mellipses\u001b[0m \u001b[0;34m=\u001b[0m \u001b[0msorted\u001b[0m\u001b[0;34m(\u001b[0m\u001b[0mellipses\u001b[0m\u001b[0;34m,\u001b[0m \u001b[0mkey\u001b[0m\u001b[0;34m=\u001b[0m\u001b[0;32mlambda\u001b[0m \u001b[0mellipse\u001b[0m\u001b[0;34m:\u001b[0m \u001b[0mellipse\u001b[0m\u001b[0;34m[\u001b[0m\u001b[0;36m0\u001b[0m\u001b[0;34m]\u001b[0m\u001b[0;34m)\u001b[0m\u001b[0;34m\u001b[0m\u001b[0;34m\u001b[0m\u001b[0m\n\u001b[1;32m     35\u001b[0m \u001b[0;34m\u001b[0m\u001b[0m\n\u001b[0;32m---> 36\u001b[0;31m             \u001b[0mprogress_bar\u001b[0m\u001b[0;34m.\u001b[0m\u001b[0mupdate\u001b[0m\u001b[0;34m(\u001b[0m\u001b[0mn\u001b[0m\u001b[0;34m=\u001b[0m\u001b[0;36m1\u001b[0m\u001b[0;34m)\u001b[0m\u001b[0;34m\u001b[0m\u001b[0;34m\u001b[0m\u001b[0m\n\u001b[0m",
            "\u001b[0;32m/usr/lib/python3.6/multiprocessing/pool.py\u001b[0m in \u001b[0;36m__exit__\u001b[0;34m(self, exc_type, exc_val, exc_tb)\u001b[0m\n\u001b[1;32m    609\u001b[0m \u001b[0;34m\u001b[0m\u001b[0m\n\u001b[1;32m    610\u001b[0m     \u001b[0;32mdef\u001b[0m \u001b[0m__exit__\u001b[0m\u001b[0;34m(\u001b[0m\u001b[0mself\u001b[0m\u001b[0;34m,\u001b[0m \u001b[0mexc_type\u001b[0m\u001b[0;34m,\u001b[0m \u001b[0mexc_val\u001b[0m\u001b[0;34m,\u001b[0m \u001b[0mexc_tb\u001b[0m\u001b[0;34m)\u001b[0m\u001b[0;34m:\u001b[0m\u001b[0;34m\u001b[0m\u001b[0;34m\u001b[0m\u001b[0m\n\u001b[0;32m--> 611\u001b[0;31m         \u001b[0mself\u001b[0m\u001b[0;34m.\u001b[0m\u001b[0mterminate\u001b[0m\u001b[0;34m(\u001b[0m\u001b[0;34m)\u001b[0m\u001b[0;34m\u001b[0m\u001b[0;34m\u001b[0m\u001b[0m\n\u001b[0m\u001b[1;32m    612\u001b[0m \u001b[0;34m\u001b[0m\u001b[0m\n\u001b[1;32m    613\u001b[0m \u001b[0;31m#\u001b[0m\u001b[0;34m\u001b[0m\u001b[0;34m\u001b[0m\u001b[0;34m\u001b[0m\u001b[0m\n",
            "\u001b[0;32m/usr/lib/python3.6/multiprocessing/pool.py\u001b[0m in \u001b[0;36mterminate\u001b[0;34m(self)\u001b[0m\n\u001b[1;32m    539\u001b[0m         \u001b[0mself\u001b[0m\u001b[0;34m.\u001b[0m\u001b[0m_state\u001b[0m \u001b[0;34m=\u001b[0m \u001b[0mTERMINATE\u001b[0m\u001b[0;34m\u001b[0m\u001b[0;34m\u001b[0m\u001b[0m\n\u001b[1;32m    540\u001b[0m         \u001b[0mself\u001b[0m\u001b[0;34m.\u001b[0m\u001b[0m_worker_handler\u001b[0m\u001b[0;34m.\u001b[0m\u001b[0m_state\u001b[0m \u001b[0;34m=\u001b[0m \u001b[0mTERMINATE\u001b[0m\u001b[0;34m\u001b[0m\u001b[0;34m\u001b[0m\u001b[0m\n\u001b[0;32m--> 541\u001b[0;31m         \u001b[0mself\u001b[0m\u001b[0;34m.\u001b[0m\u001b[0m_terminate\u001b[0m\u001b[0;34m(\u001b[0m\u001b[0;34m)\u001b[0m\u001b[0;34m\u001b[0m\u001b[0;34m\u001b[0m\u001b[0m\n\u001b[0m\u001b[1;32m    542\u001b[0m \u001b[0;34m\u001b[0m\u001b[0m\n\u001b[1;32m    543\u001b[0m     \u001b[0;32mdef\u001b[0m \u001b[0mjoin\u001b[0m\u001b[0;34m(\u001b[0m\u001b[0mself\u001b[0m\u001b[0;34m)\u001b[0m\u001b[0;34m:\u001b[0m\u001b[0;34m\u001b[0m\u001b[0;34m\u001b[0m\u001b[0m\n",
            "\u001b[0;32m/usr/lib/python3.6/multiprocessing/util.py\u001b[0m in \u001b[0;36m__call__\u001b[0;34m(self, wr, _finalizer_registry, sub_debug, getpid)\u001b[0m\n\u001b[1;32m    184\u001b[0m                 sub_debug('finalizer calling %s with args %s and kwargs %s',\n\u001b[1;32m    185\u001b[0m                           self._callback, self._args, self._kwargs)\n\u001b[0;32m--> 186\u001b[0;31m                 \u001b[0mres\u001b[0m \u001b[0;34m=\u001b[0m \u001b[0mself\u001b[0m\u001b[0;34m.\u001b[0m\u001b[0m_callback\u001b[0m\u001b[0;34m(\u001b[0m\u001b[0;34m*\u001b[0m\u001b[0mself\u001b[0m\u001b[0;34m.\u001b[0m\u001b[0m_args\u001b[0m\u001b[0;34m,\u001b[0m \u001b[0;34m**\u001b[0m\u001b[0mself\u001b[0m\u001b[0;34m.\u001b[0m\u001b[0m_kwargs\u001b[0m\u001b[0;34m)\u001b[0m\u001b[0;34m\u001b[0m\u001b[0;34m\u001b[0m\u001b[0m\n\u001b[0m\u001b[1;32m    187\u001b[0m             \u001b[0mself\u001b[0m\u001b[0;34m.\u001b[0m\u001b[0m_weakref\u001b[0m \u001b[0;34m=\u001b[0m \u001b[0mself\u001b[0m\u001b[0;34m.\u001b[0m\u001b[0m_callback\u001b[0m \u001b[0;34m=\u001b[0m \u001b[0mself\u001b[0m\u001b[0;34m.\u001b[0m\u001b[0m_args\u001b[0m \u001b[0;34m=\u001b[0m\u001b[0;31m \u001b[0m\u001b[0;31m\\\u001b[0m\u001b[0;34m\u001b[0m\u001b[0;34m\u001b[0m\u001b[0m\n\u001b[1;32m    188\u001b[0m                             \u001b[0mself\u001b[0m\u001b[0;34m.\u001b[0m\u001b[0m_kwargs\u001b[0m \u001b[0;34m=\u001b[0m \u001b[0mself\u001b[0m\u001b[0;34m.\u001b[0m\u001b[0m_key\u001b[0m \u001b[0;34m=\u001b[0m \u001b[0;32mNone\u001b[0m\u001b[0;34m\u001b[0m\u001b[0;34m\u001b[0m\u001b[0m\n",
            "\u001b[0;32m/usr/lib/python3.6/multiprocessing/pool.py\u001b[0m in \u001b[0;36m_terminate_pool\u001b[0;34m(cls, taskqueue, inqueue, outqueue, pool, worker_handler, task_handler, result_handler, cache)\u001b[0m\n\u001b[1;32m    569\u001b[0m \u001b[0;34m\u001b[0m\u001b[0m\n\u001b[1;32m    570\u001b[0m         \u001b[0mutil\u001b[0m\u001b[0;34m.\u001b[0m\u001b[0mdebug\u001b[0m\u001b[0;34m(\u001b[0m\u001b[0;34m'helping task handler/workers to finish'\u001b[0m\u001b[0;34m)\u001b[0m\u001b[0;34m\u001b[0m\u001b[0;34m\u001b[0m\u001b[0m\n\u001b[0;32m--> 571\u001b[0;31m         \u001b[0mcls\u001b[0m\u001b[0;34m.\u001b[0m\u001b[0m_help_stuff_finish\u001b[0m\u001b[0;34m(\u001b[0m\u001b[0minqueue\u001b[0m\u001b[0;34m,\u001b[0m \u001b[0mtask_handler\u001b[0m\u001b[0;34m,\u001b[0m \u001b[0mlen\u001b[0m\u001b[0;34m(\u001b[0m\u001b[0mpool\u001b[0m\u001b[0;34m)\u001b[0m\u001b[0;34m)\u001b[0m\u001b[0;34m\u001b[0m\u001b[0;34m\u001b[0m\u001b[0m\n\u001b[0m\u001b[1;32m    572\u001b[0m \u001b[0;34m\u001b[0m\u001b[0m\n\u001b[1;32m    573\u001b[0m         \u001b[0;32massert\u001b[0m \u001b[0mresult_handler\u001b[0m\u001b[0;34m.\u001b[0m\u001b[0mis_alive\u001b[0m\u001b[0;34m(\u001b[0m\u001b[0;34m)\u001b[0m \u001b[0;32mor\u001b[0m \u001b[0mlen\u001b[0m\u001b[0;34m(\u001b[0m\u001b[0mcache\u001b[0m\u001b[0;34m)\u001b[0m \u001b[0;34m==\u001b[0m \u001b[0;36m0\u001b[0m\u001b[0;34m\u001b[0m\u001b[0;34m\u001b[0m\u001b[0m\n",
            "\u001b[0;32m/usr/lib/python3.6/multiprocessing/pool.py\u001b[0m in \u001b[0;36m_help_stuff_finish\u001b[0;34m(inqueue, task_handler, size)\u001b[0m\n\u001b[1;32m    554\u001b[0m         \u001b[0;31m# task_handler may be blocked trying to put items on inqueue\u001b[0m\u001b[0;34m\u001b[0m\u001b[0;34m\u001b[0m\u001b[0;34m\u001b[0m\u001b[0m\n\u001b[1;32m    555\u001b[0m         \u001b[0mutil\u001b[0m\u001b[0;34m.\u001b[0m\u001b[0mdebug\u001b[0m\u001b[0;34m(\u001b[0m\u001b[0;34m'removing tasks from inqueue until task handler finished'\u001b[0m\u001b[0;34m)\u001b[0m\u001b[0;34m\u001b[0m\u001b[0;34m\u001b[0m\u001b[0m\n\u001b[0;32m--> 556\u001b[0;31m         \u001b[0minqueue\u001b[0m\u001b[0;34m.\u001b[0m\u001b[0m_rlock\u001b[0m\u001b[0;34m.\u001b[0m\u001b[0macquire\u001b[0m\u001b[0;34m(\u001b[0m\u001b[0;34m)\u001b[0m\u001b[0;34m\u001b[0m\u001b[0;34m\u001b[0m\u001b[0m\n\u001b[0m\u001b[1;32m    557\u001b[0m         \u001b[0;32mwhile\u001b[0m \u001b[0mtask_handler\u001b[0m\u001b[0;34m.\u001b[0m\u001b[0mis_alive\u001b[0m\u001b[0;34m(\u001b[0m\u001b[0;34m)\u001b[0m \u001b[0;32mand\u001b[0m \u001b[0minqueue\u001b[0m\u001b[0;34m.\u001b[0m\u001b[0m_reader\u001b[0m\u001b[0;34m.\u001b[0m\u001b[0mpoll\u001b[0m\u001b[0;34m(\u001b[0m\u001b[0;34m)\u001b[0m\u001b[0;34m:\u001b[0m\u001b[0;34m\u001b[0m\u001b[0;34m\u001b[0m\u001b[0m\n\u001b[1;32m    558\u001b[0m             \u001b[0minqueue\u001b[0m\u001b[0;34m.\u001b[0m\u001b[0m_reader\u001b[0m\u001b[0;34m.\u001b[0m\u001b[0mrecv\u001b[0m\u001b[0;34m(\u001b[0m\u001b[0;34m)\u001b[0m\u001b[0;34m\u001b[0m\u001b[0;34m\u001b[0m\u001b[0m\n",
            "\u001b[0;31mKeyboardInterrupt\u001b[0m: "
          ]
        }
      ]
    },
    {
      "cell_type": "code",
      "metadata": {
        "id": "i53Kx0k4JKxf"
      },
      "source": [
        "class StarburstProcess(Process):\r\n",
        "    def __init__(self, input_queue, output_queue, **kwargs):\r\n",
        "        Process.__init__(self, **kwargs)\r\n",
        "        self.input_queue = input_queue\r\n",
        "        self.output_queue = output_queue\r\n",
        "\r\n",
        "    def run(self):\r\n",
        "        LINE_LENGTH = 30\r\n",
        "        DETECTION_THRESHOLD = 5\r\n",
        "        CORNEAL_REFLECTION_SEARCH_SIZE = 10\r\n",
        "\r\n",
        "        while True:\r\n",
        "            #input: (angle in degrees, eye, image)\r\n",
        "            input = self.input_queue.get(block=True)\r\n",
        "            degree = input[0]\r\n",
        "            eye = input[1]\r\n",
        "            gray_frame = input[2]\r\n",
        "\r\n",
        "            radian = degree * math.pi / 180\r\n",
        "            edge = (int(eye[0] + LINE_LENGTH * math.cos(radian)), \r\n",
        "                    int(eye[1] + LINE_LENGTH * math.sin(radian)))\r\n",
        "            \r\n",
        "            line_points = [tupl for tupl in createLineIterator(eye, edge, gray_frame)]\r\n",
        "            derivative = []\r\n",
        "\r\n",
        "            prev_intensity = None\r\n",
        "            for tupl in line_points:\r\n",
        "                if prev_intensity is not None:\r\n",
        "                    derivative.append(tupl[2] - prev_intensity)            \r\n",
        "                prev_intensity = tupl[2]\r\n",
        "            \r\n",
        "            for i in range(len(derivative)):\r\n",
        "                if i == len(derivative) - 1:\r\n",
        "                    self.output_queue.put(((0, 0), True)) # no threshold found\r\n",
        "                if derivative[i] > DETECTION_THRESHOLD:\r\n",
        "                    corneal_reflection = False\r\n",
        "                    peak_idx = i\r\n",
        "                    for j in range(i + 1, len(derivative)):\r\n",
        "                        # detecting maximum slope\r\n",
        "                        if derivative[j] > derivative[peak_idx]:\r\n",
        "                            peak_idx = j\r\n",
        "                        # detecting corneal reflection\r\n",
        "                        elif derivative[j] < -1 * DETECTION_THRESHOLD:\r\n",
        "                            corneal_reflection = True\r\n",
        "                        # stop if too long distance\r\n",
        "                        elif j - peak_idx > CORNEAL_REFLECTION_SEARCH_SIZE:\r\n",
        "                            break\r\n",
        "\r\n",
        "                    self.output_queue.put((line_points[peak_idx][:-1], corneal_reflection))\r\n",
        "                    break\r\n"
      ],
      "execution_count": 13,
      "outputs": []
    },
    {
      "cell_type": "code",
      "metadata": {
        "id": "8r7QXS7KPPoh"
      },
      "source": [
        "def realtime_scheduler(video_filepath, process_count):\r\n",
        "    Y_MIN = 80\r\n",
        "    Y_MAX = 175\r\n",
        "    X_MIN = 100\r\n",
        "    X_MAX = 200\r\n",
        "    PIVOT_ANGLE = 15\r\n",
        "    STARBURST_TO_FRST_RATIO = 5\r\n",
        "    EYE_SIZE_RANGE = [10, 12, 14]\r\n",
        "\r\n",
        "    # create processes\r\n",
        "    output_queue = Queue()\r\n",
        "    processes = []\r\n",
        "    input_queues = []\r\n",
        "    for i in range(process_count):\r\n",
        "        input_queues.append(Queue())\r\n",
        "        processes.append(StarburstProcess(input_queues[i], output_queue))\r\n",
        "        processes[i].start()\r\n",
        "\r\n",
        "    vidcap = cv2.VideoCapture(file_path)\r\n",
        "    ret, frame = vidcap.read() # first frame is blank\r\n",
        "    ret, frame = vidcap.read()\r\n",
        "\r\n",
        "    progress_bar = tqdm(total=int(vidcap.get(cv2.CAP_PROP_FRAME_COUNT)))\r\n",
        "\r\n",
        "    while ret:\r\n",
        "        frame = frame[Y_MIN:Y_MAX, X_MIN:X_MAX] #crop\r\n",
        "        gray_frame = cv2.cvtColor(frame, cv2.COLOR_BGR2GRAY) #convert to grayscale\r\n",
        "        gray_frame = cv2.blur(gray_frame, (5, 5))\r\n",
        "\r\n",
        "        eye = estimate(gray_frame, EYE_SIZE_RANGE)\r\n",
        "\r\n",
        "        for i in range(STARBURST_TO_FRST_RATIO):\r\n",
        "            process_counter = 0\r\n",
        "            for degree in range(0, 360, PIVOT_ANGLE):            \r\n",
        "                input_queues[process_counter].put((degree, eye, gray_frame))\r\n",
        "                \r\n",
        "                if process_counter == process_count - 1:\r\n",
        "                    process_counter = 0\r\n",
        "                else:\r\n",
        "                    process_counter += 1\r\n",
        "\r\n",
        "            feature_points = []\r\n",
        "            for i in range(int(360 / PIVOT_ANGLE)):\r\n",
        "                result_tuple = output_queue.get(block=True) #(point, corneal_reflection_bool)\r\n",
        "                \r\n",
        "                if not result_tuple[1]:\r\n",
        "                    feature_points.append(result_tuple[0])\r\n",
        "\r\n",
        "            contour = np.array(feature_points)\r\n",
        "            fitted_ellipse = cv2.fitEllipse(contour)\r\n",
        "            \r\n",
        "            '''\r\n",
        "            # TESTING\r\n",
        "            for i in range(len(feature_points)):\r\n",
        "                cv2.circle(frame, tuple(feature_points[i]), 1, (0, 0, 255))\r\n",
        "            cv2.ellipse(frame, fitted_ellipse, (255, 255, 255), 1)\r\n",
        "            cv2_imshow(frame)\r\n",
        "            '''\r\n",
        "            progress_bar.update(n=1)\r\n",
        "            ret, frame = vidcap.read()\r\n",
        "\r\n",
        "\r\n"
      ],
      "execution_count": 14,
      "outputs": []
    },
    {
      "cell_type": "code",
      "metadata": {
        "id": "wSdizC2xZq3W"
      },
      "source": [
        "file_path = \"/content/gdrive/MyDrive/mouse_eye_tracking/fixedSFblink.avi\"\r\n",
        "realtime_scheduler(file_path, 1)"
      ],
      "execution_count": null,
      "outputs": []
    }
  ]
}