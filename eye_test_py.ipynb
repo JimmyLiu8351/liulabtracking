{
  "nbformat": 4,
  "nbformat_minor": 0,
  "metadata": {
    "colab": {
      "name": "eye_test.py",
      "provenance": [],
      "collapsed_sections": [],
      "authorship_tag": "ABX9TyOhNrs/RB7ds92OtTofbMi8",
      "include_colab_link": true
    },
    "kernelspec": {
      "name": "python3",
      "display_name": "Python 3"
    }
  },
  "cells": [
    {
      "cell_type": "markdown",
      "metadata": {
        "id": "view-in-github",
        "colab_type": "text"
      },
      "source": [
        "<a href=\"https://colab.research.google.com/github/JimmyLiu8351/liulabtracking/blob/main/eye_test_py.ipynb\" target=\"_parent\"><img src=\"https://colab.research.google.com/assets/colab-badge.svg\" alt=\"Open In Colab\"/></a>"
      ]
    },
    {
      "cell_type": "code",
      "metadata": {
        "id": "wzLp7ssS88CL",
        "colab": {
          "base_uri": "https://localhost:8080/"
        },
        "outputId": "0c102b6c-7c63-4dbb-b846-3a84aaa8972d"
      },
      "source": [
        "import cv2\n",
        "import numpy as np\n",
        "\n",
        "from google.colab.patches import cv2_imshow\n",
        "from PIL import Image\n",
        "\n",
        "from google.colab import drive\n",
        "drive.mount('/content/gdrive')"
      ],
      "execution_count": 69,
      "outputs": [
        {
          "output_type": "stream",
          "text": [
            "Drive already mounted at /content/gdrive; to attempt to forcibly remount, call drive.mount(\"/content/gdrive\", force_remount=True).\n"
          ],
          "name": "stdout"
        }
      ]
    },
    {
      "cell_type": "code",
      "metadata": {
        "id": "gN7svmg_SJov"
      },
      "source": [
        "def gradx(img):\n",
        "    img = img.astype('int')\n",
        "    rows, cols = img.shape\n",
        "    # Use hstack to add back in the columns that were dropped as zeros\n",
        "    return np.hstack( (np.zeros((rows, 1)), (img[:, 2:] - img[:, :-2])/2.0, np.zeros((rows, 1))) )"
      ],
      "execution_count": 70,
      "outputs": []
    },
    {
      "cell_type": "code",
      "metadata": {
        "id": "ssVQM7WLSK3-"
      },
      "source": [
        "def grady(img):\n",
        "    img = img.astype('int')\n",
        "    rows, cols = img.shape\n",
        "    # Use vstack to add back the rows that were dropped as zeros\n",
        "    return np.vstack( (np.zeros((1, cols)), (img[2:, :] - img[:-2, :])/2.0, np.zeros((1, cols))) )"
      ],
      "execution_count": 71,
      "outputs": []
    },
    {
      "cell_type": "code",
      "metadata": {
        "id": "0dPlG9v2SXkI"
      },
      "source": [
        "#Performs fast radial symmetry transform\n",
        "#img: input image, grayscale\n",
        "#radii: integer value for radius size in pixels (n in the original paper); also used to size gaussian kernel\n",
        "#alpha: Strictness of symmetry transform (higher=more strict; 2 is good place to start)\n",
        "#beta: gradient threshold parameter, float in [0,1]\n",
        "#stdFactor: Standard deviation factor for gaussian kernel\n",
        "#mode: BRIGHT, DARK, or BOTH\n",
        "def frst(img, radii, alpha, beta, stdFactor, mode='BOTH'):\n",
        "    mode = mode.upper()\n",
        "    assert mode in ['BRIGHT', 'DARK', 'BOTH']\n",
        "    dark = (mode == 'DARK' or mode == 'BOTH')\n",
        "    bright = (mode == 'BRIGHT' or mode == 'BOTH')\n",
        "\n",
        "    workingDims = tuple((e + 2*radii) for e in img.shape)\n",
        "\n",
        "    #M and O working matrices\n",
        "    O_n = np.zeros(workingDims, np.int16)\n",
        "    M_n = np.zeros(workingDims, np.int16)\n",
        "\n",
        "    #Calculate gradients\n",
        "    gx = gradx(img)\n",
        "    gy = grady(img)\n",
        "\n",
        "    #Find gradient vector magnitude\n",
        "    gnorms = np.sqrt( np.add( np.multiply(gx, gx) , np.multiply(gy, gy) ) )\n",
        "\n",
        "    #Use beta to set threshold - speeds up transform significantly\n",
        "    gthresh = np.amax(gnorms)*beta\n",
        "\n",
        "    #Find x/y distance to affected pixels\n",
        "    gpx = np.multiply(np.divide(gx, gnorms, out=np.zeros(gx.shape), where=gnorms!=0), radii).round().astype(int);\n",
        "    gpy = np.multiply(np.divide(gy, gnorms, out=np.zeros(gy.shape), where=gnorms!=0), radii).round().astype(int);\n",
        "\n",
        "    #Iterate over all pixels (w/ gradient above threshold)\n",
        "    for coords, gnorm in np.ndenumerate(gnorms):\n",
        "        if gnorm > gthresh:\n",
        "            i, j = coords\n",
        "            #Positively affected pixel\n",
        "            if bright:\n",
        "                ppve = (i+gpy[i,j]+radii, j+gpx[i,j]+radii)\n",
        "                O_n[ppve] += 1\n",
        "                M_n[ppve] += gnorm\n",
        "            #Negatively affected pixel\n",
        "            if dark:\n",
        "                pnve = (i-gpy[i,j]+radii, j-gpx[i,j]+radii)\n",
        "                O_n[pnve] -= 1\n",
        "                M_n[pnve] -= gnorm\n",
        "\n",
        "    \n",
        "\n",
        "    #Abs and normalize O matrix\n",
        "    O_n = np.abs(O_n)\n",
        "    O_n = O_n / float(np.amax(O_n))\n",
        "\n",
        "    #Normalize M matrix\n",
        "    M_max = float(np.amax(np.abs(M_n)))\n",
        "    M_n = M_n / M_max\n",
        "\n",
        "    #Elementwise multiplication\n",
        "    F_n = np.multiply(np.power(O_n, alpha), M_n)\n",
        "\n",
        "    #Gaussian blur\n",
        "    kSize = int( np.ceil( radii / 2 ) )\n",
        "    kSize = kSize + 1 if kSize % 2 == 0 else kSize\n",
        "\n",
        "    S = cv2.GaussianBlur(F_n, (kSize, kSize), int( radii * stdFactor ))\n",
        "    \n",
        "    return S[radii:-radii,radii:-radii]"
      ],
      "execution_count": 72,
      "outputs": []
    },
    {
      "cell_type": "code",
      "metadata": {
        "id": "e_RzcFqR9CLt"
      },
      "source": [
        "# opening the video in videocapture\n",
        "\n",
        "file_path = \"/content/gdrive/MyDrive/mouse_eye_tracking/fixedSFblink.avi\"\n",
        "vidcap = cv2.VideoCapture(file_path)\n",
        "\n",
        "#file_path = \"/content/gdrive/MyDrive/mouse_eye_tracking/Black_Circle.png\"\n",
        "#frame = cv2.imread(file_path)\n",
        "#cv2_imshow(frame)\n",
        "#print(frame.shape)"
      ],
      "execution_count": 73,
      "outputs": []
    },
    {
      "cell_type": "code",
      "metadata": {
        "id": "z7wH5r0oF0jd",
        "colab": {
          "base_uri": "https://localhost:8080/",
          "height": 112
        },
        "outputId": "49fa5b27-3c28-4457-9c5f-f6bf5b135878"
      },
      "source": [
        "# reading the frame from video\n",
        "\n",
        "ret, frame = vidcap.read()\n",
        "for i in range(2000):\n",
        "    ret, frame = vidcap.read()\n",
        "frame = frame[80:175, 100:200]\n",
        "cv2_imshow(frame)"
      ],
      "execution_count": 84,
      "outputs": [
        {
          "output_type": "display_data",
          "data": {
            "image/png": "[encoded data removed]",
            "text/plain": [
              "<PIL.Image.Image image mode=RGB size=100x95 at 0x7F3930294C50>"
            ]
          },
          "metadata": {
            "tags": []
          }
        }
      ]
    },
    {
      "cell_type": "code",
      "metadata": {
        "id": "8O4T6b_QtNpk"
      },
      "source": [
        "# Detector initialization\n",
        "detector = cv2.SimpleBlobDetector_create()"
      ],
      "execution_count": 75,
      "outputs": []
    },
    {
      "cell_type": "code",
      "metadata": {
        "id": "5HaUSZO5p_yu",
        "outputId": "7ea0e20f-784d-4429-ece0-fcec6761e32f",
        "colab": {
          "base_uri": "https://localhost:8080/",
          "height": 129
        }
      },
      "source": [
        "# Simple blob detection\n",
        "\n",
        "gray_frame = cv2.cvtColor(frame, cv2.COLOR_BGR2GRAY)\n",
        "\n",
        "#test_circle = cv2.imread(\"/content/gdrive/MyDrive/mouse_eye_tracking/Black_Circle.png\")\n",
        "#cv2_imshow(test_circle)\n",
        "\n",
        "keypoints = detector.detect(gray_frame)\n",
        "print(keypoints)\n",
        "\n",
        "\n",
        "frame_with_keypoints = cv2.drawKeypoints(gray_frame, keypoints, np.array([]), (0, 0, 255),\n",
        "                                            cv2.DRAW_MATCHES_FLAGS_DRAW_RICH_KEYPOINTS)\n",
        "cv2_imshow(frame_with_keypoints)\n",
        "\n"
      ],
      "execution_count": 79,
      "outputs": [
        {
          "output_type": "stream",
          "text": [
            "[]\n"
          ],
          "name": "stdout"
        },
        {
          "output_type": "display_data",
          "data": {
            "image/png": "[encoded data removed]",
            "text/plain": [
              "<PIL.Image.Image image mode=RGB size=100x95 at 0x7F3930294FD0>"
            ]
          },
          "metadata": {
            "tags": []
          }
        }
      ]
    },
    {
      "cell_type": "code",
      "metadata": {
        "id": "ihuqkYt17MX6",
        "colab": {
          "base_uri": "https://localhost:8080/",
          "height": 207
        },
        "outputId": "07f95d62-8b9c-4160-9c9b-31cb34237b9f"
      },
      "source": [
        "# thresholding the corneal reflections\n",
        "#gray_frame = cv2.cvtColor(test_circle, cv2.COLOR_BGR2GRAY)\n",
        "gray_frame = cv2.cvtColor(frame, cv2.COLOR_BGR2GRAY)\n",
        "blur_frame = cv2.GaussianBlur(gray_frame, (5, 5), sigmaX=0, sigmaY=0)\n",
        "\n",
        "cv2_imshow(blur_frame)\n",
        "\n",
        "ret, thresh_frame = cv2.threshold(blur_frame, 100, 255, cv2.THRESH_BINARY)\n",
        "#th3 = cv2.adaptiveThreshold(blur_frame, 220, cv2.THRESH_BINARY, cv2.THRESH_BINARY_INV, 5, 2)\n",
        "cv2_imshow(thresh_frame)"
      ],
      "execution_count": 85,
      "outputs": [
        {
          "output_type": "display_data",
          "data": {
            "image/png": "[encoded data removed]",
            "text/plain": [
              "<PIL.Image.Image image mode=L size=100x95 at 0x7F393033BA90>"
            ]
          },
          "metadata": {
            "tags": []
          }
        },
        {
          "output_type": "display_data",
          "data": {
            "image/png": "[encoded data removed]",
            "text/plain": [
              "<PIL.Image.Image image mode=L size=100x95 at 0x7F393033BC50>"
            ]
          },
          "metadata": {
            "tags": []
          }
        }
      ]
    },
    {
      "cell_type": "code",
      "metadata": {
        "id": "WdHAeTI1LHEx",
        "outputId": "12f7b73a-8be5-4e0f-80d7-1a6943a0b89c",
        "colab": {
          "base_uri": "https://localhost:8080/",
          "height": 207
        }
      },
      "source": [
        "# applying the mean color to reflection areas\n",
        "mean = np.mean(gray_frame)\n",
        "\n",
        "mean_frame = gray_frame.copy()\n",
        "\n",
        "for (x, y), value in np.ndenumerate(thresh_frame):\n",
        "    if value > 0:\n",
        "        mean_frame[x, y] = mean\n",
        "\n",
        "cv2_imshow(gray_frame)\n",
        "cv2_imshow(mean_frame)"
      ],
      "execution_count": 86,
      "outputs": [
        {
          "output_type": "display_data",
          "data": {
            "image/png": "[encoded data removed]",
            "text/plain": [
              "<PIL.Image.Image image mode=L size=100x95 at 0x7F393033B080>"
            ]
          },
          "metadata": {
            "tags": []
          }
        },
        {
          "output_type": "display_data",
          "data": {
            "image/png": "[encoded data removed]",
            "text/plain": [
              "<PIL.Image.Image image mode=L size=100x95 at 0x7F393033B828>"
            ]
          },
          "metadata": {
            "tags": []
          }
        }
      ]
    },
    {
      "cell_type": "code",
      "metadata": {
        "id": "NXYfSYbqvtrb",
        "colab": {
          "base_uri": "https://localhost:8080/",
          "height": 129
        },
        "outputId": "47f95cc0-1b26-4a6c-a87d-1786ce9d772d"
      },
      "source": [
        "# running frst on image\n",
        "\n",
        "#ten = frst(cv2.cvtColor(frame, cv2.COLOR_BGR2GRAY), 10, 2, 0.2, 0, mode='DARK')\n",
        "#twelve = frst(cv2.cvtColor(frame, cv2.COLOR_BGR2GRAY), 12, 2, 0.2, 0, mode='DARK')\n",
        "#fourteen = frst(cv2.cvtColor(frame, cv2.COLOR_BGR2GRAY), 14, 2, 0.2, 0, mode='DARK')\n",
        "\n",
        "ten = frst(mean_frame, 10, 2, 0.2, 0, mode='DARK')\n",
        "twelve = frst(mean_frame, 12, 2, 0.2, 0, mode='DARK')\n",
        "fourteen = frst(mean_frame, 14, 2, 0.2, 0, mode='DARK')\n",
        "\n",
        "arr2D = np.add(ten, twelve, fourteen)\n",
        "\n",
        "eye = np.unravel_index(arr2D.argmin(), arr2D.shape)\n",
        "print(eye)\n",
        "cv2.circle(mean_frame, (eye[1], eye[0]), 5, (255,255,255))\n",
        "cv2_imshow(mean_frame)"
      ],
      "execution_count": 88,
      "outputs": [
        {
          "output_type": "stream",
          "text": [
            "(30, 60)\n"
          ],
          "name": "stdout"
        },
        {
          "output_type": "display_data",
          "data": {
            "image/png": "[encoded data removed]",
            "text/plain": [
              "<PIL.Image.Image image mode=L size=100x95 at 0x7F393033B630>"
            ]
          },
          "metadata": {
            "tags": []
          }
        }
      ]
    },
    {
      "cell_type": "code",
      "metadata": {
        "id": "I72IisyNp6U4",
        "colab": {
          "base_uri": "https://localhost:8080/",
          "height": 207
        },
        "outputId": "94d67051-83d5-4344-979d-a15086194784"
      },
      "source": [
        "cv2_imshow(np.multiply(arr2D, -10000))\n",
        "cv2_imshow(np.multiply(arr2D, 10000))"
      ],
      "execution_count": 89,
      "outputs": [
        {
          "output_type": "display_data",
          "data": {
            "image/png": "[encoded data removed]",
            "text/plain": [
              "<PIL.Image.Image image mode=L size=100x95 at 0x7F39302D1470>"
            ]
          },
          "metadata": {
            "tags": []
          }
        },
        {
          "output_type": "display_data",
          "data": {
            "image/png": "[encoded data removed]",
            "text/plain": [
              "<PIL.Image.Image image mode=L size=100x95 at 0x7F39302D19E8>"
            ]
          },
          "metadata": {
            "tags": []
          }
        }
      ]
    }
  ]
}