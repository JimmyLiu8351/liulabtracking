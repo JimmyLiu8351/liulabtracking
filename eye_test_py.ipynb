{
  "nbformat": 4,
  "nbformat_minor": 0,
  "metadata": {
    "colab": {
      "name": "eye_test.py",
      "provenance": [],
      "collapsed_sections": [],
      "authorship_tag": "ABX9TyM4Xte7tPozZow0/zgxejFl",
      "include_colab_link": true
    },
    "kernelspec": {
      "name": "python3",
      "display_name": "Python 3"
    }
  },
  "cells": [
    {
      "cell_type": "markdown",
      "metadata": {
        "id": "view-in-github",
        "colab_type": "text"
      },
      "source": [
        "<a href=\"https://colab.research.google.com/github/JimmyLiu8351/liulabtracking/blob/main/eye_test_py.ipynb\" target=\"_parent\"><img src=\"https://colab.research.google.com/assets/colab-badge.svg\" alt=\"Open In Colab\"/></a>"
      ]
    },
    {
      "cell_type": "code",
      "metadata": {
        "id": "wzLp7ssS88CL",
        "colab": {
          "base_uri": "https://localhost:8080/"
        },
        "outputId": "e385922e-d844-424e-b0b6-e8a3e4ab0f4d"
      },
      "source": [
        "import cv2 as cv\n",
        "import numpy as np\n",
        "\n",
        "from google.colab.patches import cv2_imshow\n",
        "from PIL import Image\n",
        "\n",
        "from google.colab import drive\n",
        "drive.mount('/content/gdrive')"
      ],
      "execution_count": 41,
      "outputs": [
        {
          "output_type": "stream",
          "text": [
            "Drive already mounted at /content/gdrive; to attempt to forcibly remount, call drive.mount(\"/content/gdrive\", force_remount=True).\n"
          ],
          "name": "stdout"
        }
      ]
    },
    {
      "cell_type": "code",
      "metadata": {
        "id": "gN7svmg_SJov"
      },
      "source": [
        "def gradx(img):\n",
        "    img = img.astype('int')\n",
        "    rows, cols = img.shape\n",
        "    # Use hstack to add back in the columns that were dropped as zeros\n",
        "    return np.hstack( (np.zeros((rows, 1)), (img[:, 2:] - img[:, :-2])/2.0, np.zeros((rows, 1))) )"
      ],
      "execution_count": 42,
      "outputs": []
    },
    {
      "cell_type": "code",
      "metadata": {
        "id": "ssVQM7WLSK3-"
      },
      "source": [
        "def grady(img):\n",
        "    img = img.astype('int')\n",
        "    rows, cols = img.shape\n",
        "    # Use vstack to add back the rows that were dropped as zeros\n",
        "    return np.vstack( (np.zeros((1, cols)), (img[2:, :] - img[:-2, :])/2.0, np.zeros((1, cols))) )"
      ],
      "execution_count": 43,
      "outputs": []
    },
    {
      "cell_type": "code",
      "metadata": {
        "id": "0dPlG9v2SXkI"
      },
      "source": [
        "#Performs fast radial symmetry transform\n",
        "#img: input image, grayscale\n",
        "#radii: integer value for radius size in pixels (n in the original paper); also used to size gaussian kernel\n",
        "#alpha: Strictness of symmetry transform (higher=more strict; 2 is good place to start)\n",
        "#beta: gradient threshold parameter, float in [0,1]\n",
        "#stdFactor: Standard deviation factor for gaussian kernel\n",
        "#mode: BRIGHT, DARK, or BOTH\n",
        "def frst(img, radii, alpha, beta, stdFactor, mode='BOTH'):\n",
        "    mode = mode.upper()\n",
        "    assert mode in ['BRIGHT', 'DARK', 'BOTH']\n",
        "    dark = (mode == 'DARK' or mode == 'BOTH')\n",
        "    bright = (mode == 'BRIGHT' or mode == 'BOTH')\n",
        "\n",
        "    workingDims = tuple((e + 2*radii) for e in img.shape)\n",
        "\n",
        "    #M and O working matrices\n",
        "    O_n = np.zeros(workingDims, np.int16)\n",
        "    M_n = np.zeros(workingDims, np.int16)\n",
        "\n",
        "    #Calculate gradients\n",
        "    gx = gradx(img)\n",
        "    gy = grady(img)\n",
        "\n",
        "    #Find gradient vector magnitude\n",
        "    gnorms = np.sqrt( np.add( np.multiply(gx, gx) , np.multiply(gy, gy) ) )\n",
        "\n",
        "    #Use beta to set threshold - speeds up transform significantly\n",
        "    gthresh = np.amax(gnorms)*beta\n",
        "\n",
        "    #Find x/y distance to affected pixels\n",
        "    gpx = np.multiply(np.divide(gx, gnorms, out=np.zeros(gx.shape), where=gnorms!=0), radii).round().astype(int);\n",
        "    gpy = np.multiply(np.divide(gy, gnorms, out=np.zeros(gy.shape), where=gnorms!=0), radii).round().astype(int);\n",
        "\n",
        "    #Iterate over all pixels (w/ gradient above threshold)\n",
        "    for coords, gnorm in np.ndenumerate(gnorms):\n",
        "        if gnorm > gthresh:\n",
        "            i, j = coords\n",
        "            #Positively affected pixel\n",
        "            if bright:\n",
        "                ppve = (i+gpy[i,j]+radii, j+gpx[i,j]+radii)\n",
        "                O_n[ppve] += 1\n",
        "                M_n[ppve] += gnorm\n",
        "            #Negatively affected pixel\n",
        "            if dark:\n",
        "                pnve = (i-gpy[i,j]+radii, j-gpx[i,j]+radii)\n",
        "                O_n[pnve] -= 1\n",
        "                M_n[pnve] -= gnorm\n",
        "\n",
        "    \n",
        "\n",
        "    #Abs and normalize O matrix\n",
        "    O_n = np.abs(O_n)\n",
        "    O_n = O_n / float(np.amax(O_n))\n",
        "\n",
        "    #Normalize M matrix\n",
        "    M_max = float(np.amax(np.abs(M_n)))\n",
        "    M_n = M_n / M_max\n",
        "\n",
        "    #Elementwise multiplication\n",
        "    F_n = np.multiply(np.power(O_n, alpha), M_n)\n",
        "\n",
        "    #Gaussian blur\n",
        "    kSize = int( np.ceil( radii / 2 ) )\n",
        "    kSize = kSize + 1 if kSize % 2 == 0 else kSize\n",
        "\n",
        "    S = cv2.GaussianBlur(F_n, (kSize, kSize), int( radii * stdFactor ))\n",
        "    \n",
        "    return S[radii:-radii,radii:-radii]"
      ],
      "execution_count": 44,
      "outputs": []
    },
    {
      "cell_type": "code",
      "metadata": {
        "id": "e_RzcFqR9CLt"
      },
      "source": [
        "# opening the video in videocapture\n",
        "\n",
        "file_path = \"/content/gdrive/MyDrive/mouse_eye_tracking/fixedSFblink.avi\"\n",
        "vidcap = cv.VideoCapture(file_path)\n",
        "\n",
        "#file_path = \"/content/gdrive/MyDrive/mouse_eye_tracking/Black_Circle.jpg\"\n",
        "#frame = cv2.imread(file_path)\n",
        "#cv2_imshow(frame)\n",
        "#print(frame.shape)"
      ],
      "execution_count": 45,
      "outputs": []
    },
    {
      "cell_type": "code",
      "metadata": {
        "id": "z7wH5r0oF0jd",
        "colab": {
          "base_uri": "https://localhost:8080/",
          "height": 112
        },
        "outputId": "101a3a63-dae3-4271-fbc3-b8d4f4f87de1"
      },
      "source": [
        "# reading the frame from video\n",
        "\n",
        "ret, frame = vidcap.read()\n",
        "for i in range(2000):\n",
        "    ret, frame = vidcap.read()\n",
        "frame = frame[80:175, 100:200]\n",
        "cv2_imshow(frame)"
      ],
      "execution_count": 49,
      "outputs": [
        {
          "output_type": "display_data",
          "data": {
            "image/png": "[encoded data removed]",
            "text/plain": [
              "<PIL.Image.Image image mode=RGB size=100x95 at 0x7FB7CFF18470>"
            ]
          },
          "metadata": {
            "tags": []
          }
        }
      ]
    },
    {
      "cell_type": "code",
      "metadata": {
        "id": "ihuqkYt17MX6",
        "outputId": "37991ea1-ab8f-422a-9a4f-4af33765d2ba",
        "colab": {
          "base_uri": "https://localhost:8080/",
          "height": 224
        }
      },
      "source": [
        "# thresholding the corneal reflections\n",
        "\n",
        "gray_frame = cv.cvtColor(frame, cv.COLOR_BGR2GRAY)\n",
        "blur_frame = cv2.GaussianBlur(gray_frame, (5, 5), sigmaX=0, sigmaY=0)\n",
        "\n",
        "cv2_imshow(blur_frame)\n",
        "\n",
        "ret, th3 = cv.threshold(blur_frame, 210, 255, cv.THRESH_BINARY)\n",
        "#th3 = cv.adaptiveThreshold(blur_frame, 220, cv.THRESH_BINARY, cv.THRESH_BINARY_INV, 5, 2)\n",
        "cv2_imshow(th3)"
      ],
      "execution_count": 79,
      "outputs": [
        {
          "output_type": "display_data",
          "data": {
            "image/png": "[encoded data removed]",
            "text/plain": [
              "<PIL.Image.Image image mode=L size=100x95 at 0x7FB7C7875470>"
            ]
          },
          "metadata": {
            "tags": []
          }
        },
        {
          "output_type": "stream",
          "text": [
            "210.0\n"
          ],
          "name": "stdout"
        },
        {
          "output_type": "display_data",
          "data": {
            "image/png": "[encoded data removed]",
            "text/plain": [
              "<PIL.Image.Image image mode=L size=100x95 at 0x7FB7C78750F0>"
            ]
          },
          "metadata": {
            "tags": []
          }
        }
      ]
    },
    {
      "cell_type": "code",
      "metadata": {
        "id": "WdHAeTI1LHEx"
      },
      "source": [
        "# applying the mean color to reflection areas\n",
        "\n"
      ],
      "execution_count": null,
      "outputs": []
    },
    {
      "cell_type": "code",
      "metadata": {
        "id": "NXYfSYbqvtrb",
        "colab": {
          "base_uri": "https://localhost:8080/",
          "height": 146
        },
        "outputId": "d8077d86-8559-4d78-9b01-f0e3c1851429"
      },
      "source": [
        "# running frst on image\n",
        "\n",
        "ten = frst(cv.cvtColor(frame, cv.COLOR_BGR2GRAY), 20, 2, 0.2, 0, mode='DARK')\n",
        "twelve = frst(cv.cvtColor(frame, cv.COLOR_BGR2GRAY), 20, 2, 0.2, 0, mode='DARK')\n",
        "fourteen = frst(cv.cvtColor(frame, cv.COLOR_BGR2GRAY), 20, 2, 0.2, 0, mode='DARK')\n",
        "\n",
        "arr2D = np.add(ten, twelve, fourteen)\n",
        "\n",
        "eye = np.unravel_index(arr2D.argmin(), arr2D.shape)\n",
        "print(eye)\n",
        "print(frame.shape)\n",
        "cv.circle(frame, eye, 5, (0,0,255))\n",
        "cv2_imshow(frame)"
      ],
      "execution_count": 48,
      "outputs": [
        {
          "output_type": "stream",
          "text": [
            "(69, 27)\n",
            "(95, 100, 3)\n"
          ],
          "name": "stdout"
        },
        {
          "output_type": "display_data",
          "data": {
            "image/png": "[encoded data removed]",
            "text/plain": [
              "<PIL.Image.Image image mode=RGB size=100x95 at 0x7FB7CFF21710>"
            ]
          },
          "metadata": {
            "tags": []
          }
        }
      ]
    },
    {
      "cell_type": "code",
      "metadata": {
        "id": "I72IisyNp6U4",
        "colab": {
          "base_uri": "https://localhost:8080/",
          "height": 207
        },
        "outputId": "596459ff-0d9b-4fb6-e71f-b40d8392a163"
      },
      "source": [
        "cv2_imshow(np.multiply(arr2D, -10000))\n",
        "cv2_imshow(np.multiply(arr2D, 10000))"
      ],
      "execution_count": 39,
      "outputs": [
        {
          "output_type": "display_data",
          "data": {
            "image/png": "[encoded data removed]",
            "text/plain": [
              "<PIL.Image.Image image mode=L size=100x95 at 0x7FB7D002A940>"
            ]
          },
          "metadata": {
            "tags": []
          }
        },
        {
          "output_type": "display_data",
          "data": {
            "image/png": "[encoded data removed]",
            "text/plain": [
              "<PIL.Image.Image image mode=L size=100x95 at 0x7FB7D002AD68>"
            ]
          },
          "metadata": {
            "tags": []
          }
        }
      ]
    }
  ]
}