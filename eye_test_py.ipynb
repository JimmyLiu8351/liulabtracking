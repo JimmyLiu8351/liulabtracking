{
  "nbformat": 4,
  "nbformat_minor": 0,
  "metadata": {
    "colab": {
      "name": "eye_test.py",
      "provenance": [],
      "collapsed_sections": [],
      "authorship_tag": "ABX9TyOP1yzxjUWom1GXsCBqUxo4",
      "include_colab_link": true
    },
    "kernelspec": {
      "name": "python3",
      "display_name": "Python 3"
    }
  },
  "cells": [
    {
      "cell_type": "markdown",
      "metadata": {
        "id": "view-in-github",
        "colab_type": "text"
      },
      "source": [
        "<a href=\"https://colab.research.google.com/github/JimmyLiu8351/liulabtracking/blob/main/eye_test_py.ipynb\" target=\"_parent\"><img src=\"https://colab.research.google.com/assets/colab-badge.svg\" alt=\"Open In Colab\"/></a>"
      ]
    },
    {
      "cell_type": "code",
      "metadata": {
        "id": "wzLp7ssS88CL",
        "colab": {
          "base_uri": "https://localhost:8080/"
        },
        "outputId": "cba19590-19d1-4075-e75d-cea58da980c3"
      },
      "source": [
        "import cv2\n",
        "import numpy as np\n",
        "import math\n",
        "\n",
        "from google.colab.patches import cv2_imshow\n",
        "from PIL import Image\n",
        "from skimage.draw import line\n",
        "from tqdm import tqdm\n",
        "\n",
        "from google.colab import drive\n",
        "drive.mount('/content/gdrive')"
      ],
      "execution_count": 2,
      "outputs": [
        {
          "output_type": "stream",
          "text": [
            "Mounted at /content/gdrive\n"
          ],
          "name": "stdout"
        }
      ]
    },
    {
      "cell_type": "code",
      "metadata": {
        "id": "9X5jjkTrOGX5"
      },
      "source": [
        "def createLineIterator(P1, P2, img):\r\n",
        "    \"\"\"\r\n",
        "    Produces and array that consists of the coordinates and intensities of each pixel in a line between two points\r\n",
        "\r\n",
        "    Parameters:\r\n",
        "        -P1: a numpy array that consists of the coordinate of the first point (x,y)\r\n",
        "        -P2: a numpy array that consists of the coordinate of the second point (x,y)\r\n",
        "        -img: the image being processed\r\n",
        "\r\n",
        "    Returns:\r\n",
        "        -it: a numpy array that consists of the coordinates and intensities of each pixel in the radii (shape: [numPixels, 3], row = [x,y,intensity])     \r\n",
        "    \"\"\"\r\n",
        "    #define local variables for readability\r\n",
        "    imageH = img.shape[0]\r\n",
        "    imageW = img.shape[1]\r\n",
        "    P1X = P1[0]\r\n",
        "    P1Y = P1[1]\r\n",
        "    P2X = P2[0]\r\n",
        "    P2Y = P2[1]\r\n",
        "\r\n",
        "    #difference and absolute difference between points\r\n",
        "    #used to calculate slope and relative location between points\r\n",
        "    dX = P2X - P1X\r\n",
        "    dY = P2Y - P1Y\r\n",
        "    dXa = np.abs(dX)\r\n",
        "    dYa = np.abs(dY)\r\n",
        "\r\n",
        "    #predefine numpy array for output based on distance between points\r\n",
        "    itbuffer = np.empty(shape=(np.maximum(dYa,dXa),3),dtype=np.float32)\r\n",
        "    itbuffer.fill(np.nan)\r\n",
        "\r\n",
        "    #Obtain coordinates along the line using a form of Bresenham's algorithm\r\n",
        "    negY = P1Y > P2Y\r\n",
        "    negX = P1X > P2X\r\n",
        "    if P1X == P2X: #vertical line segment\r\n",
        "        itbuffer[:,0] = P1X\r\n",
        "        if negY:\r\n",
        "            itbuffer[:,1] = np.arange(P1Y - 1,P1Y - dYa - 1,-1)\r\n",
        "        else:\r\n",
        "            itbuffer[:,1] = np.arange(P1Y+1,P1Y+dYa+1)              \r\n",
        "    elif P1Y == P2Y: #horizontal line segment\r\n",
        "        itbuffer[:,1] = P1Y\r\n",
        "        if negX:\r\n",
        "            itbuffer[:,0] = np.arange(P1X-1,P1X-dXa-1,-1)\r\n",
        "        else:\r\n",
        "            itbuffer[:,0] = np.arange(P1X+1,P1X+dXa+1)\r\n",
        "    else: #diagonal line segment\r\n",
        "        steepSlope = dYa > dXa\r\n",
        "        if steepSlope:\r\n",
        "            slope = dX.astype(np.float32)/dY.astype(np.float32)\r\n",
        "            if negY:\r\n",
        "                itbuffer[:,1] = np.arange(P1Y-1,P1Y-dYa-1,-1)\r\n",
        "            else:\r\n",
        "                itbuffer[:,1] = np.arange(P1Y+1,P1Y+dYa+1)\r\n",
        "            itbuffer[:,0] = (slope*(itbuffer[:,1]-P1Y)).astype(np.int) + P1X\r\n",
        "        else:\r\n",
        "            slope = dY.astype(np.float32)/dX.astype(np.float32)\r\n",
        "            if negX:\r\n",
        "                itbuffer[:,0] = np.arange(P1X-1,P1X-dXa-1,-1)\r\n",
        "            else:\r\n",
        "                itbuffer[:,0] = np.arange(P1X+1,P1X+dXa+1)\r\n",
        "            itbuffer[:,1] = (slope*(itbuffer[:,0]-P1X)).astype(np.int) + P1Y\r\n",
        "\r\n",
        "    #Remove points outside of image\r\n",
        "    colX = itbuffer[:,0]\r\n",
        "    colY = itbuffer[:,1]\r\n",
        "    itbuffer = itbuffer[(colX >= 0) & (colY >=0) & (colX<imageW) & (colY<imageH)]\r\n",
        "\r\n",
        "    #Get intensities from img ndarray\r\n",
        "    itbuffer[:,2] = img[itbuffer[:,1].astype(np.uint),itbuffer[:,0].astype(np.uint)]\r\n",
        "\r\n",
        "    return itbuffer"
      ],
      "execution_count": 3,
      "outputs": []
    },
    {
      "cell_type": "code",
      "metadata": {
        "id": "gN7svmg_SJov"
      },
      "source": [
        "def gradx(img):\n",
        "    img = img.astype('int')\n",
        "    rows, cols = img.shape\n",
        "    # Use hstack to add back in the columns that were dropped as zeros\n",
        "    return np.hstack( (np.zeros((rows, 1)), (img[:, 2:] - img[:, :-2])/2.0, np.zeros((rows, 1))) )"
      ],
      "execution_count": 4,
      "outputs": []
    },
    {
      "cell_type": "code",
      "metadata": {
        "id": "ssVQM7WLSK3-"
      },
      "source": [
        "def grady(img):\n",
        "    img = img.astype('int')\n",
        "    rows, cols = img.shape\n",
        "    # Use vstack to add back the rows that were dropped as zeros\n",
        "    return np.vstack( (np.zeros((1, cols)), (img[2:, :] - img[:-2, :])/2.0, np.zeros((1, cols))) )"
      ],
      "execution_count": 5,
      "outputs": []
    },
    {
      "cell_type": "code",
      "metadata": {
        "id": "0dPlG9v2SXkI"
      },
      "source": [
        "#Performs fast radial symmetry transform\n",
        "#img: input image, grayscale\n",
        "#radii: integer value for radius size in pixels (n in the original paper); also used to size gaussian kernel\n",
        "#alpha: Strictness of symmetry transform (higher=more strict; 2 is good place to start)\n",
        "#beta: gradient threshold parameter, float in [0,1]\n",
        "#stdFactor: Standard deviation factor for gaussian kernel\n",
        "#mode: BRIGHT, DARK, or BOTH\n",
        "def frst(img, radii, alpha, beta, stdFactor, mode='BOTH'):\n",
        "    mode = mode.upper()\n",
        "    assert mode in ['BRIGHT', 'DARK', 'BOTH']\n",
        "    dark = (mode == 'DARK' or mode == 'BOTH')\n",
        "    bright = (mode == 'BRIGHT' or mode == 'BOTH')\n",
        "\n",
        "    workingDims = tuple((e + 2*radii) for e in img.shape)\n",
        "\n",
        "    #M and O working matrices\n",
        "    O_n = np.zeros(workingDims, np.int16)\n",
        "    M_n = np.zeros(workingDims, np.int16)\n",
        "\n",
        "    #Calculate gradients\n",
        "    gx = gradx(img)\n",
        "    gy = grady(img)\n",
        "\n",
        "    #Find gradient vector magnitude\n",
        "    gnorms = np.sqrt( np.add( np.multiply(gx, gx) , np.multiply(gy, gy) ) )\n",
        "\n",
        "    #Use beta to set threshold - speeds up transform significantly\n",
        "    gthresh = np.amax(gnorms)*beta\n",
        "\n",
        "    #Find x/y distance to affected pixels\n",
        "    gpx = np.multiply(np.divide(gx, gnorms, out=np.zeros(gx.shape), where=gnorms!=0), radii).round().astype(int);\n",
        "    gpy = np.multiply(np.divide(gy, gnorms, out=np.zeros(gy.shape), where=gnorms!=0), radii).round().astype(int);\n",
        "\n",
        "    #Iterate over all pixels (w/ gradient above threshold)\n",
        "    for coords, gnorm in np.ndenumerate(gnorms):\n",
        "        if gnorm > gthresh:\n",
        "            i, j = coords\n",
        "            #Positively affected pixel\n",
        "            if bright:\n",
        "                ppve = (i+gpy[i,j]+radii, j+gpx[i,j]+radii)\n",
        "                O_n[ppve] += 1\n",
        "                M_n[ppve] += gnorm\n",
        "            #Negatively affected pixel\n",
        "            if dark:\n",
        "                pnve = (i-gpy[i,j]+radii, j-gpx[i,j]+radii)\n",
        "                O_n[pnve] -= 1\n",
        "                M_n[pnve] -= gnorm\n",
        "\n",
        "    \n",
        "\n",
        "    #Abs and normalize O matrix\n",
        "    O_n = np.abs(O_n)\n",
        "    O_n = O_n / float(np.amax(O_n))\n",
        "\n",
        "    #Normalize M matrix\n",
        "    M_max = float(np.amax(np.abs(M_n)))\n",
        "    M_n = M_n / M_max\n",
        "\n",
        "    #Elementwise multiplication\n",
        "    F_n = np.multiply(np.power(O_n, alpha), M_n)\n",
        "\n",
        "    #Gaussian blur\n",
        "    kSize = int( np.ceil( radii / 2 ) )\n",
        "    kSize = kSize + 1 if kSize % 2 == 0 else kSize\n",
        "\n",
        "    S = cv2.GaussianBlur(F_n, (kSize, kSize), int( radii * stdFactor ))\n",
        "    \n",
        "    return S[radii:-radii,radii:-radii]"
      ],
      "execution_count": 6,
      "outputs": []
    },
    {
      "cell_type": "code",
      "metadata": {
        "id": "epeAKWwQ9W5V"
      },
      "source": [
        "def rough_corneal_remove(gray_frame, replace_val):\n",
        "    # roughly removing corneal reflection\n",
        "    blur_frame = cv2.blur(gray_frame, (5, 5))\n",
        "    ret, thresh_frame = cv2.threshold(blur_frame, 100, 255, cv2.THRESH_BINARY)\n",
        "\n",
        "    for (x, y), value in np.ndenumerate(thresh_frame):\n",
        "        if value > 0:\n",
        "            gray_frame[x, y] = replace_val\n",
        "    \n",
        "    return cv2.blur(gray_frame, (5, 5))"
      ],
      "execution_count": 7,
      "outputs": []
    },
    {
      "cell_type": "code",
      "metadata": {
        "id": "RSzNRhVDw-xZ"
      },
      "source": [
        "def estimate(frame, radius_lst):\n",
        "    # convert frame to grayscale\n",
        "    if len(frame.shape) != 2:\n",
        "        gray_frame = cv2.cvtColor(frame, cv2.COLOR_BGR2GRAY)\n",
        "    else:\n",
        "        gray_frame = frame\n",
        "\n",
        "    gray_frame = rough_corneal_remove(gray_frame, np.mean(gray_frame))\n",
        "\n",
        "    #frst\n",
        "    frst_sum = np.zeros(gray_frame.shape)\n",
        "    for i in radius_lst:\n",
        "        result = frst(gray_frame, i, 2, 0.2, 0, mode='DARK')\n",
        "        frst_sum = np.add(frst_sum, result)\n",
        "\n",
        "    # argmin finds the min index as if frst_sum is flattened,\n",
        "    # so we have to reverse that using unravel_index\n",
        "    eye_estimate = np.unravel_index(frst_sum.argmin(), frst_sum.shape)[::-1]\n",
        "    \n",
        "    return eye_estimate"
      ],
      "execution_count": 8,
      "outputs": []
    },
    {
      "cell_type": "code",
      "metadata": {
        "id": "0nX4onh6TT57"
      },
      "source": [
        "def starburst(frame, eye):\n",
        "    PIVOT_ANGLE = 15\n",
        "    LINE_LENGTH = 30\n",
        "    DETECTION_THRESHOLD = 4\n",
        "    CORNEAL_REFLECTION_SEARCH_SIZE = 15\n",
        "\n",
        "    # convert frame to grayscale\n",
        "    if len(frame.shape) != 2:\n",
        "        gray_frame = cv2.cvtColor(frame, cv2.COLOR_BGR2GRAY)\n",
        "    else:\n",
        "        gray_frame = frame\n",
        "\n",
        "    gray_frame = cv2.blur(gray_frame, (5, 5))\n",
        "\n",
        "    test_frame = frame.copy()\n",
        "\n",
        "    feature_points = []\n",
        "    distances = []\n",
        "\n",
        "    for degree in range(0, 360, PIVOT_ANGLE):\n",
        "\n",
        "        radian = degree * math.pi / 180\n",
        "        edge = (int(eye[0] + LINE_LENGTH * math.cos(radian)), \n",
        "                int(eye[1] + LINE_LENGTH * math.sin(radian)))\n",
        "        \n",
        "        line_points = [tupl for tupl in createLineIterator(eye, edge, gray_frame)]\n",
        "        derivative = []\n",
        "\n",
        "        prev_intensity = None\n",
        "        for tupl in line_points:\n",
        "            if prev_intensity is not None:\n",
        "                derivative.append(tupl[2] - prev_intensity)            \n",
        "            prev_intensity = tupl[2]\n",
        "        \n",
        "        next_transition = 0\n",
        "        for i in range(len(derivative)):\n",
        "            # skip to the next transition if there is one\n",
        "            if next_transition > i:\n",
        "                continue\n",
        "            if derivative[i] > DETECTION_THRESHOLD:\n",
        "                corneal_reflection = False\n",
        "                peak_idx = i\n",
        "                peak_end = False\n",
        "                for j in range(i + 1, len(derivative)):\n",
        "                    # detecting maximum slope\n",
        "                    if derivative[j] > derivative[peak_idx] and not peak_end:\n",
        "                        peak_idx = j\n",
        "                    # detecting end of transition\n",
        "                    elif derivative[j] < DETECTION_THRESHOLD and not peak_end:\n",
        "                        peak_end = True\n",
        "                    # detecting if reached another transition:\n",
        "                    elif derivative[j] > DETECTION_THRESHOLD and peak_end:\n",
        "                        next_transition = j\n",
        "                        break\n",
        "                    # detecting corneal reflection\n",
        "                    elif derivative[j] < -1 * DETECTION_THRESHOLD:\n",
        "                        corneal_reflection = True\n",
        "                    # stop if too long distance\n",
        "                    elif j - peak_idx > CORNEAL_REFLECTION_SEARCH_SIZE:\n",
        "                        break\n",
        "\n",
        "                '''\n",
        "                if corneal_reflection:\n",
        "                    cv2.circle(test_frame, (tuple(line_points[peak_idx][:-1])), 1, (0, 255, 0))\n",
        "                else:\n",
        "                    cv2.circle(test_frame, (tuple(line_points[peak_idx][:-1])), 1, (0, 0, 255))\n",
        "                '''\n",
        "                if not corneal_reflection:\n",
        "                    feature_points.append(line_points[peak_idx][:-1])\n",
        "\n",
        "                # end outside loop, there's no next_transition\n",
        "                if next_transition == 0:\n",
        "                    break    \n",
        "        \n",
        "\n",
        "    return np.array(feature_points)\n",
        "\n"
      ],
      "execution_count": 133,
      "outputs": []
    },
    {
      "cell_type": "code",
      "metadata": {
        "id": "e_RzcFqR9CLt"
      },
      "source": [
        "# opening the video in videocapture\n",
        "\n",
        "file_path = \"/content/gdrive/MyDrive/mouse_eye_tracking/fixedSFblink.avi\"\n",
        "vidcap = cv2.VideoCapture(file_path)"
      ],
      "execution_count": 11,
      "outputs": []
    },
    {
      "cell_type": "code",
      "metadata": {
        "id": "z7wH5r0oF0jd",
        "colab": {
          "base_uri": "https://localhost:8080/",
          "height": 112
        },
        "outputId": "4e714975-b1df-4971-9647-cda21bb8e609"
      },
      "source": [
        "# reading the frame from video\n",
        "\n",
        "for i in range(200):\n",
        "    ret, frame = vidcap.read()\n",
        "\n",
        "#ret, frame = vidcap.read()\n",
        "\n",
        "frame = frame[80:175, 100:200]\n",
        "cv2_imshow(frame)"
      ],
      "execution_count": 130,
      "outputs": [
        {
          "output_type": "display_data",
          "data": {
            "image/png": "[encoded data removed]",
            "text/plain": [
              "<PIL.Image.Image image mode=RGB size=100x95 at 0x7F9612010EF0>"
            ]
          },
          "metadata": {
            "tags": []
          }
        }
      ]
    },
    {
      "cell_type": "code",
      "metadata": {
        "id": "OFqehwjlT8ms",
        "colab": {
          "base_uri": "https://localhost:8080/",
          "height": 112
        },
        "outputId": "b7c3fe86-62c4-4699-ffd8-c52427eef8ea"
      },
      "source": [
        "# eye estimate example\n",
        "eye = estimate(frame, [14, 16, 18])\n",
        "cv2.circle(frame, eye, 5, (0, 0, 255))\n",
        "cv2_imshow(frame)"
      ],
      "execution_count": 93,
      "outputs": [
        {
          "output_type": "display_data",
          "data": {
            "image/png": "[encoded data removed]",
            "text/plain": [
              "<PIL.Image.Image image mode=RGB size=100x95 at 0x7F96120475C0>"
            ]
          },
          "metadata": {
            "tags": []
          }
        }
      ]
    },
    {
      "cell_type": "code",
      "metadata": {
        "id": "OMimC26eadCS",
        "colab": {
          "base_uri": "https://localhost:8080/",
          "height": 207
        },
        "outputId": "eea30034-d65a-4bf3-e59a-0e559dad7a4a"
      },
      "source": [
        "# starburst example\n",
        "eye = estimate(frame, [10, 12, 14])\n",
        "contour = starburst(frame, eye)\n",
        "\n",
        "for point in contour:\n",
        "    cv2.circle(frame, tuple(point), 1, (255, 255, 255))\n",
        "\n",
        "cv2_imshow(frame)\n"
      ],
      "execution_count": 122,
      "outputs": [
        {
          "output_type": "display_data",
          "data": {
            "image/png": "[encoded data removed]",
            "text/plain": [
              "<PIL.Image.Image image mode=RGB size=100x95 at 0x7F9611FE9128>"
            ]
          },
          "metadata": {
            "tags": []
          }
        },
        {
          "output_type": "display_data",
          "data": {
            "image/png": "[encoded data removed]",
            "text/plain": [
              "<PIL.Image.Image image mode=RGB size=100x95 at 0x7F9611FE9128>"
            ]
          },
          "metadata": {
            "tags": []
          }
        }
      ]
    },
    {
      "cell_type": "code",
      "metadata": {
        "id": "a6FswRd5MiGe",
        "colab": {
          "base_uri": "https://localhost:8080/",
          "height": 207
        },
        "outputId": "0b577792-a54a-4aff-a62c-a15e9d8bf2b4"
      },
      "source": [
        "# elippse fitting example\n",
        "eye = estimate(frame, [10, 12, 14])\n",
        "contour = starburst(frame, eye)\n",
        "\n",
        "fitted_ellipse = cv2.fitEllipse(contour)\n",
        "cv2.ellipse(frame, fitted_ellipse, (255, 255, 255), 1)\n",
        "cv2_imshow(frame)"
      ],
      "execution_count": 131,
      "outputs": [
        {
          "output_type": "display_data",
          "data": {
            "image/png": "[encoded data removed]",
            "text/plain": [
              "<PIL.Image.Image image mode=RGB size=100x95 at 0x7F961205E668>"
            ]
          },
          "metadata": {
            "tags": []
          }
        },
        {
          "output_type": "display_data",
          "data": {
            "image/png": "[encoded data removed]",
            "text/plain": [
              "<PIL.Image.Image image mode=RGB size=100x95 at 0x7F961205EEB8>"
            ]
          },
          "metadata": {
            "tags": []
          }
        }
      ]
    },
    {
      "cell_type": "code",
      "metadata": {
        "id": "UpBDsAOCfEmN",
        "colab": {
          "base_uri": "https://localhost:8080/",
          "height": 1000
        },
        "outputId": "eae7084d-6151-4a9e-e82c-94826b203e76"
      },
      "source": [
        "progress_bar = tqdm(total=int(vidcap.get(cv2.CAP_PROP_FRAME_COUNT)))\n",
        "ret, frame = vidcap.read()\n",
        "frame = frame[80:175, 100:200]\n",
        "while ret:\n",
        "    eye = estimate(frame, [10, 12, 14])\n",
        "    for i in range(5):\n",
        "        contour = starburst(frame, eye)\n",
        "        fitted_ellipse = cv2.fitEllipse(contour)\n",
        "        ret, frame = vidcap.read()\n",
        "        frame = frame[80:175, 100:200]\n",
        "        progress_bar.update(1)"
      ],
      "execution_count": 135,
      "outputs": [
        {
          "output_type": "stream",
          "text": [
            "\n",
            "\n",
            "  0%|          | 0/24002 [00:00<?, ?it/s]\u001b[A\u001b[A\n",
            "\n",
            "  0%|          | 6/24002 [00:00<10:02, 39.83it/s]\u001b[A\u001b[A\n",
            "\n",
            "  0%|          | 14/24002 [00:00<08:33, 46.75it/s]\u001b[A\u001b[A\n",
            "\n",
            "  0%|          | 21/24002 [00:00<08:40, 46.11it/s]\u001b[A\u001b[A\n",
            "\n",
            "  0%|          | 29/24002 [00:00<07:37, 52.37it/s]\u001b[A\u001b[A\n",
            "\n",
            "  0%|          | 36/24002 [00:00<08:04, 49.46it/s]\u001b[A\u001b[A\n",
            "\n",
            "  0%|          | 43/24002 [00:00<07:24, 53.86it/s]\u001b[A\u001b[A\n",
            "\n",
            "  0%|          | 50/24002 [00:00<06:56, 57.55it/s]\u001b[A\u001b[A\n",
            "\n",
            "  0%|          | 56/24002 [00:01<07:46, 51.36it/s]\u001b[A\u001b[A\n",
            "\n",
            "  0%|          | 62/24002 [00:01<07:31, 52.99it/s]\u001b[A\u001b[A\n",
            "\n",
            "  0%|          | 68/24002 [00:01<07:22, 54.08it/s]\u001b[A\u001b[A\n",
            "\n",
            "  0%|          | 76/24002 [00:01<07:36, 52.41it/s]\u001b[A\u001b[A\n",
            "\n",
            "  0%|          | 84/24002 [00:01<06:53, 57.88it/s]\u001b[A\u001b[A\n",
            "\n",
            "  0%|          | 91/24002 [00:01<07:32, 52.81it/s]\u001b[A\u001b[A\n",
            "\n",
            "  0%|          | 98/24002 [00:01<07:02, 56.61it/s]\u001b[A\u001b[A\n",
            "\n",
            "  0%|          | 105/24002 [00:01<06:38, 59.94it/s]\u001b[A\u001b[A\n",
            "\n",
            "  0%|          | 112/24002 [00:02<07:25, 53.61it/s]\u001b[A\u001b[A\n",
            "\n",
            "  0%|          | 119/24002 [00:02<06:54, 57.58it/s]\u001b[A\u001b[A\n",
            "\n",
            "  1%|          | 126/24002 [00:02<07:26, 53.46it/s]\u001b[A\u001b[A\n",
            "\n",
            "  1%|          | 132/24002 [00:02<07:13, 55.03it/s]\u001b[A\u001b[A\n",
            "\n",
            "  1%|          | 140/24002 [00:02<06:35, 60.26it/s]\u001b[A\u001b[A\n",
            "\n",
            "  1%|          | 147/24002 [00:02<07:20, 54.20it/s]\u001b[A\u001b[A\n",
            "\n",
            "  1%|          | 154/24002 [00:02<06:51, 58.00it/s]\u001b[A\u001b[A\n",
            "\n",
            "  1%|          | 161/24002 [00:02<07:29, 53.05it/s]\u001b[A\u001b[A\n",
            "\n",
            "  1%|          | 168/24002 [00:03<07:01, 56.54it/s]\u001b[A\u001b[A\n",
            "\n",
            "  1%|          | 175/24002 [00:03<06:37, 59.89it/s]\u001b[A\u001b[A\n",
            "\n",
            "  1%|          | 182/24002 [00:03<07:08, 55.62it/s]\u001b[A\u001b[A\n",
            "\n",
            "  1%|          | 190/24002 [00:03<06:31, 60.76it/s]\u001b[A\u001b[A\n",
            "\n",
            "  1%|          | 197/24002 [00:03<07:30, 52.86it/s]\u001b[A\u001b[A\n",
            "\n",
            "  1%|          | 203/24002 [00:03<07:22, 53.73it/s]\u001b[A\u001b[A\n",
            "\n",
            "  1%|          | 210/24002 [00:03<06:53, 57.53it/s]\u001b[A\u001b[A\n",
            "\n",
            "  1%|          | 217/24002 [00:03<07:18, 54.29it/s]\u001b[A\u001b[A\n",
            "\n",
            "  1%|          | 224/24002 [00:03<06:50, 57.96it/s]\u001b[A\u001b[A\n",
            "\n",
            "  1%|          | 231/24002 [00:04<07:29, 52.94it/s]\u001b[A\u001b[A\n",
            "\n",
            "  1%|          | 239/24002 [00:04<06:44, 58.79it/s]\u001b[A\u001b[A\n",
            "\n",
            "  1%|          | 246/24002 [00:04<07:13, 54.82it/s]\u001b[A\u001b[A\n",
            "\n",
            "  1%|          | 252/24002 [00:04<07:05, 55.79it/s]\u001b[A\u001b[A\n",
            "\n",
            "  1%|          | 260/24002 [00:04<06:29, 61.03it/s]\u001b[A\u001b[A\n",
            "\n",
            "  1%|          | 267/24002 [00:04<07:01, 56.33it/s]\u001b[A\u001b[A\n",
            "\n",
            "  1%|          | 274/24002 [00:04<06:36, 59.81it/s]\u001b[A\u001b[A\n",
            "\n",
            "  1%|          | 281/24002 [00:05<07:44, 51.06it/s]\u001b[A\u001b[A\n",
            "\n",
            "  1%|          | 287/24002 [00:05<07:44, 51.09it/s]\u001b[A\u001b[A\n",
            "\n",
            "  1%|          | 293/24002 [00:05<08:31, 46.33it/s]\u001b[A\u001b[A\n",
            "\n",
            "  1%|          | 298/24002 [00:05<09:29, 41.64it/s]\u001b[A\u001b[A\n",
            "\n",
            "  1%|▏         | 303/24002 [00:05<10:33, 37.44it/s]\u001b[A\u001b[A\n",
            "\n",
            "  1%|▏         | 308/24002 [00:05<11:19, 34.86it/s]\u001b[A\u001b[A\n",
            "\n",
            "  1%|▏         | 312/24002 [00:05<13:21, 29.56it/s]\u001b[A\u001b[A\n",
            "\n",
            "  1%|▏         | 316/24002 [00:06<13:29, 29.25it/s]\u001b[A\u001b[A\n",
            "\n",
            "  1%|▏         | 322/24002 [00:06<11:35, 34.07it/s]\u001b[A\u001b[A\n",
            "\n",
            "  1%|▏         | 326/24002 [00:06<14:51, 26.55it/s]\u001b[A\u001b[A\n",
            "\n",
            "  1%|▏         | 332/24002 [00:06<12:26, 31.72it/s]\u001b[A\u001b[A\n",
            "\n",
            "  1%|▏         | 337/24002 [00:06<11:17, 34.93it/s]\u001b[A\u001b[A\n",
            "\n",
            "  1%|▏         | 342/24002 [00:06<10:21, 38.08it/s]\u001b[A\u001b[A\n",
            "\n",
            "  1%|▏         | 350/24002 [00:06<08:46, 44.93it/s]\u001b[A\u001b[A\n",
            "\n",
            "  1%|▏         | 356/24002 [00:07<08:59, 43.80it/s]\u001b[A\u001b[A\n",
            "\n",
            "  2%|▏         | 364/24002 [00:07<07:46, 50.63it/s]\u001b[A\u001b[A\n",
            "\n",
            "  2%|▏         | 371/24002 [00:07<07:52, 50.03it/s]\u001b[A\u001b[A\n",
            "\n",
            "  2%|▏         | 380/24002 [00:07<06:52, 57.27it/s]\u001b[A\u001b[A\n",
            "\n",
            "  2%|▏         | 387/24002 [00:07<07:17, 53.99it/s]\u001b[A\u001b[A\n",
            "\n",
            "  2%|▏         | 393/24002 [00:07<07:13, 54.43it/s]\u001b[A\u001b[A\n",
            "\n",
            "  2%|▏         | 400/24002 [00:07<06:49, 57.66it/s]\u001b[A\u001b[A\n",
            "\n",
            "  2%|▏         | 407/24002 [00:07<07:12, 54.62it/s]\u001b[A\u001b[A\n",
            "\n",
            "  2%|▏         | 414/24002 [00:07<06:50, 57.53it/s]\u001b[A\u001b[A\n",
            "\n",
            "  2%|▏         | 420/24002 [00:08<06:46, 57.97it/s]\u001b[A\u001b[A\n",
            "\n",
            "  2%|▏         | 426/24002 [00:08<07:32, 52.09it/s]\u001b[A\u001b[A\n",
            "\n",
            "  2%|▏         | 434/24002 [00:08<06:46, 58.01it/s]\u001b[A\u001b[A\n",
            "\n",
            "  2%|▏         | 441/24002 [00:08<07:19, 53.56it/s]\u001b[A\u001b[A\n",
            "\n",
            "  2%|▏         | 450/24002 [00:08<06:30, 60.38it/s]\u001b[A\u001b[A\n",
            "\n",
            "  2%|▏         | 457/24002 [00:08<07:21, 53.35it/s]\u001b[A\u001b[A\n",
            "\n",
            "  2%|▏         | 466/24002 [00:08<07:10, 54.67it/s]\u001b[A\u001b[A\n",
            "\n",
            "  2%|▏         | 473/24002 [00:09<06:42, 58.48it/s]\u001b[A\u001b[A\n",
            "\n",
            "  2%|▏         | 480/24002 [00:09<06:26, 60.90it/s]\u001b[A\u001b[A\n",
            "\n",
            "  2%|▏         | 487/24002 [00:09<07:02, 55.67it/s]\u001b[A\u001b[A\n",
            "\n",
            "  2%|▏         | 495/24002 [00:09<06:27, 60.69it/s]\u001b[A\u001b[A\n",
            "\n",
            "  2%|▏         | 502/24002 [00:09<07:03, 55.49it/s]\u001b[A\u001b[A\n",
            "\n",
            "  2%|▏         | 511/24002 [00:09<06:57, 56.30it/s]\u001b[A\u001b[A\n",
            "\n",
            "  2%|▏         | 518/24002 [00:09<06:34, 59.46it/s]\u001b[A\u001b[A\n",
            "\n",
            "  2%|▏         | 526/24002 [00:09<06:55, 56.52it/s]\u001b[A\u001b[A\n",
            "\n",
            "  2%|▏         | 532/24002 [00:10<06:48, 57.48it/s]\u001b[A\u001b[A\n",
            "\n",
            "  2%|▏         | 540/24002 [00:10<06:15, 62.47it/s]\u001b[A\u001b[A\n",
            "\n",
            "  2%|▏         | 547/24002 [00:10<06:57, 56.15it/s]\u001b[A\u001b[A\n",
            "\n",
            "  2%|▏         | 555/24002 [00:10<06:23, 61.08it/s]\u001b[A\u001b[A\n",
            "\n",
            "  2%|▏         | 562/24002 [00:10<06:55, 56.36it/s]\u001b[A\u001b[A\n",
            "\n",
            "  2%|▏         | 569/24002 [00:10<06:32, 59.71it/s]\u001b[A\u001b[A\n",
            "\n",
            "  2%|▏         | 576/24002 [00:10<07:08, 54.73it/s]\u001b[A\u001b[A\n",
            "\n",
            "  2%|▏         | 582/24002 [00:10<07:03, 55.36it/s]\u001b[A\u001b[A\n",
            "\n",
            "  2%|▏         | 589/24002 [00:10<06:38, 58.71it/s]\u001b[A\u001b[A\n",
            "\n",
            "  2%|▏         | 596/24002 [00:11<07:15, 53.76it/s]\u001b[A\u001b[A\n",
            "\n",
            "  3%|▎         | 603/24002 [00:11<06:47, 57.38it/s]\u001b[A\u001b[A\n",
            "\n",
            "  3%|▎         | 610/24002 [00:11<06:26, 60.58it/s]\u001b[A\u001b[A\n",
            "\n",
            "  3%|▎         | 617/24002 [00:11<07:07, 54.64it/s]\u001b[A\u001b[A\n",
            "\n",
            "  3%|▎         | 624/24002 [00:11<06:41, 58.27it/s]\u001b[A\u001b[A\n",
            "\n",
            "  3%|▎         | 631/24002 [00:11<07:23, 52.71it/s]\u001b[A\u001b[A\n",
            "\n",
            "  3%|▎         | 638/24002 [00:11<06:53, 56.46it/s]\u001b[A\u001b[A\n",
            "\n",
            "  3%|▎         | 646/24002 [00:12<07:12, 54.05it/s]\u001b[A\u001b[A\n",
            "\n",
            "  3%|▎         | 652/24002 [00:12<07:00, 55.58it/s]\u001b[A\u001b[A\n",
            "\n",
            "  3%|▎         | 659/24002 [00:12<06:34, 59.13it/s]\u001b[A\u001b[A\n",
            "\n",
            "  3%|▎         | 666/24002 [00:12<07:10, 54.26it/s]\u001b[A\u001b[A"
          ],
          "name": "stderr"
        },
        {
          "output_type": "error",
          "ename": "KeyboardInterrupt",
          "evalue": "ignored",
          "traceback": [
            "\u001b[0;31m---------------------------------------------------------------------------\u001b[0m",
            "\u001b[0;31mKeyboardInterrupt\u001b[0m                         Traceback (most recent call last)",
            "\u001b[0;32m<ipython-input-135-9c81b260dfa1>\u001b[0m in \u001b[0;36m<module>\u001b[0;34m()\u001b[0m\n\u001b[1;32m      5\u001b[0m     \u001b[0meye\u001b[0m \u001b[0;34m=\u001b[0m \u001b[0mestimate\u001b[0m\u001b[0;34m(\u001b[0m\u001b[0mframe\u001b[0m\u001b[0;34m,\u001b[0m \u001b[0;34m[\u001b[0m\u001b[0;36m10\u001b[0m\u001b[0;34m,\u001b[0m \u001b[0;36m12\u001b[0m\u001b[0;34m,\u001b[0m \u001b[0;36m14\u001b[0m\u001b[0;34m]\u001b[0m\u001b[0;34m)\u001b[0m\u001b[0;34m\u001b[0m\u001b[0;34m\u001b[0m\u001b[0m\n\u001b[1;32m      6\u001b[0m     \u001b[0;32mfor\u001b[0m \u001b[0mi\u001b[0m \u001b[0;32min\u001b[0m \u001b[0mrange\u001b[0m\u001b[0;34m(\u001b[0m\u001b[0;36m5\u001b[0m\u001b[0;34m)\u001b[0m\u001b[0;34m:\u001b[0m\u001b[0;34m\u001b[0m\u001b[0;34m\u001b[0m\u001b[0m\n\u001b[0;32m----> 7\u001b[0;31m         \u001b[0mcontour\u001b[0m \u001b[0;34m=\u001b[0m \u001b[0mstarburst\u001b[0m\u001b[0;34m(\u001b[0m\u001b[0mframe\u001b[0m\u001b[0;34m,\u001b[0m \u001b[0meye\u001b[0m\u001b[0;34m)\u001b[0m\u001b[0;34m\u001b[0m\u001b[0;34m\u001b[0m\u001b[0m\n\u001b[0m\u001b[1;32m      8\u001b[0m         \u001b[0mfitted_ellipse\u001b[0m \u001b[0;34m=\u001b[0m \u001b[0mcv2\u001b[0m\u001b[0;34m.\u001b[0m\u001b[0mfitEllipse\u001b[0m\u001b[0;34m(\u001b[0m\u001b[0mcontour\u001b[0m\u001b[0;34m)\u001b[0m\u001b[0;34m\u001b[0m\u001b[0;34m\u001b[0m\u001b[0m\n\u001b[1;32m      9\u001b[0m         \u001b[0mret\u001b[0m\u001b[0;34m,\u001b[0m \u001b[0mframe\u001b[0m \u001b[0;34m=\u001b[0m \u001b[0mvidcap\u001b[0m\u001b[0;34m.\u001b[0m\u001b[0mread\u001b[0m\u001b[0;34m(\u001b[0m\u001b[0;34m)\u001b[0m\u001b[0;34m\u001b[0m\u001b[0;34m\u001b[0m\u001b[0m\n",
            "\u001b[0;32m<ipython-input-133-29bb3bea894f>\u001b[0m in \u001b[0;36mstarburst\u001b[0;34m(frame, eye)\u001b[0m\n\u001b[1;32m     24\u001b[0m                 int(eye[1] + LINE_LENGTH * math.sin(radian)))\n\u001b[1;32m     25\u001b[0m \u001b[0;34m\u001b[0m\u001b[0m\n\u001b[0;32m---> 26\u001b[0;31m         \u001b[0mline_points\u001b[0m \u001b[0;34m=\u001b[0m \u001b[0;34m[\u001b[0m\u001b[0mtupl\u001b[0m \u001b[0;32mfor\u001b[0m \u001b[0mtupl\u001b[0m \u001b[0;32min\u001b[0m \u001b[0mcreateLineIterator\u001b[0m\u001b[0;34m(\u001b[0m\u001b[0meye\u001b[0m\u001b[0;34m,\u001b[0m \u001b[0medge\u001b[0m\u001b[0;34m,\u001b[0m \u001b[0mgray_frame\u001b[0m\u001b[0;34m)\u001b[0m\u001b[0;34m]\u001b[0m\u001b[0;34m\u001b[0m\u001b[0;34m\u001b[0m\u001b[0m\n\u001b[0m\u001b[1;32m     27\u001b[0m         \u001b[0mderivative\u001b[0m \u001b[0;34m=\u001b[0m \u001b[0;34m[\u001b[0m\u001b[0;34m]\u001b[0m\u001b[0;34m\u001b[0m\u001b[0;34m\u001b[0m\u001b[0m\n\u001b[1;32m     28\u001b[0m \u001b[0;34m\u001b[0m\u001b[0m\n",
            "\u001b[0;32m<ipython-input-3-ba3a6bf155fe>\u001b[0m in \u001b[0;36mcreateLineIterator\u001b[0;34m(P1, P2, img)\u001b[0m\n\u001b[1;32m     50\u001b[0m             \u001b[0mslope\u001b[0m \u001b[0;34m=\u001b[0m \u001b[0mdX\u001b[0m\u001b[0;34m.\u001b[0m\u001b[0mastype\u001b[0m\u001b[0;34m(\u001b[0m\u001b[0mnp\u001b[0m\u001b[0;34m.\u001b[0m\u001b[0mfloat32\u001b[0m\u001b[0;34m)\u001b[0m\u001b[0;34m/\u001b[0m\u001b[0mdY\u001b[0m\u001b[0;34m.\u001b[0m\u001b[0mastype\u001b[0m\u001b[0;34m(\u001b[0m\u001b[0mnp\u001b[0m\u001b[0;34m.\u001b[0m\u001b[0mfloat32\u001b[0m\u001b[0;34m)\u001b[0m\u001b[0;34m\u001b[0m\u001b[0;34m\u001b[0m\u001b[0m\n\u001b[1;32m     51\u001b[0m             \u001b[0;32mif\u001b[0m \u001b[0mnegY\u001b[0m\u001b[0;34m:\u001b[0m\u001b[0;34m\u001b[0m\u001b[0;34m\u001b[0m\u001b[0m\n\u001b[0;32m---> 52\u001b[0;31m                 \u001b[0mitbuffer\u001b[0m\u001b[0;34m[\u001b[0m\u001b[0;34m:\u001b[0m\u001b[0;34m,\u001b[0m\u001b[0;36m1\u001b[0m\u001b[0;34m]\u001b[0m \u001b[0;34m=\u001b[0m \u001b[0mnp\u001b[0m\u001b[0;34m.\u001b[0m\u001b[0marange\u001b[0m\u001b[0;34m(\u001b[0m\u001b[0mP1Y\u001b[0m\u001b[0;34m-\u001b[0m\u001b[0;36m1\u001b[0m\u001b[0;34m,\u001b[0m\u001b[0mP1Y\u001b[0m\u001b[0;34m-\u001b[0m\u001b[0mdYa\u001b[0m\u001b[0;34m-\u001b[0m\u001b[0;36m1\u001b[0m\u001b[0;34m,\u001b[0m\u001b[0;34m-\u001b[0m\u001b[0;36m1\u001b[0m\u001b[0;34m)\u001b[0m\u001b[0;34m\u001b[0m\u001b[0;34m\u001b[0m\u001b[0m\n\u001b[0m\u001b[1;32m     53\u001b[0m             \u001b[0;32melse\u001b[0m\u001b[0;34m:\u001b[0m\u001b[0;34m\u001b[0m\u001b[0;34m\u001b[0m\u001b[0m\n\u001b[1;32m     54\u001b[0m                 \u001b[0mitbuffer\u001b[0m\u001b[0;34m[\u001b[0m\u001b[0;34m:\u001b[0m\u001b[0;34m,\u001b[0m\u001b[0;36m1\u001b[0m\u001b[0;34m]\u001b[0m \u001b[0;34m=\u001b[0m \u001b[0mnp\u001b[0m\u001b[0;34m.\u001b[0m\u001b[0marange\u001b[0m\u001b[0;34m(\u001b[0m\u001b[0mP1Y\u001b[0m\u001b[0;34m+\u001b[0m\u001b[0;36m1\u001b[0m\u001b[0;34m,\u001b[0m\u001b[0mP1Y\u001b[0m\u001b[0;34m+\u001b[0m\u001b[0mdYa\u001b[0m\u001b[0;34m+\u001b[0m\u001b[0;36m1\u001b[0m\u001b[0;34m)\u001b[0m\u001b[0;34m\u001b[0m\u001b[0;34m\u001b[0m\u001b[0m\n",
            "\u001b[0;31mKeyboardInterrupt\u001b[0m: "
          ]
        }
      ]
    }
  ]
}