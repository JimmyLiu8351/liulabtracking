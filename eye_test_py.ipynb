{
  "nbformat": 4,
  "nbformat_minor": 0,
  "metadata": {
    "colab": {
      "name": "eye_test.py",
      "provenance": [],
      "collapsed_sections": [],
      "authorship_tag": "ABX9TyOTk2cxjepFrckwm32qW/R6",
      "include_colab_link": true
    },
    "kernelspec": {
      "name": "python3",
      "display_name": "Python 3"
    }
  },
  "cells": [
    {
      "cell_type": "markdown",
      "metadata": {
        "id": "view-in-github",
        "colab_type": "text"
      },
      "source": [
        "<a href=\"https://colab.research.google.com/github/JimmyLiu8351/liulabtracking/blob/main/eye_test_py.ipynb\" target=\"_parent\"><img src=\"https://colab.research.google.com/assets/colab-badge.svg\" alt=\"Open In Colab\"/></a>"
      ]
    },
    {
      "cell_type": "code",
      "metadata": {
        "id": "wzLp7ssS88CL",
        "colab": {
          "base_uri": "https://localhost:8080/"
        },
        "outputId": "9bf9551f-fe17-43a3-ff07-9567e325dc39"
      },
      "source": [
        "import cv2\n",
        "import numpy as np\n",
        "\n",
        "from google.colab.patches import cv2_imshow\n",
        "from PIL import Image\n",
        "\n",
        "from google.colab import drive\n",
        "drive.mount('/content/gdrive')"
      ],
      "execution_count": 1,
      "outputs": [
        {
          "output_type": "stream",
          "text": [
            "Mounted at /content/gdrive\n"
          ],
          "name": "stdout"
        }
      ]
    },
    {
      "cell_type": "code",
      "metadata": {
        "id": "gN7svmg_SJov"
      },
      "source": [
        "def gradx(img):\n",
        "    img = img.astype('int')\n",
        "    rows, cols = img.shape\n",
        "    # Use hstack to add back in the columns that were dropped as zeros\n",
        "    return np.hstack( (np.zeros((rows, 1)), (img[:, 2:] - img[:, :-2])/2.0, np.zeros((rows, 1))) )"
      ],
      "execution_count": 2,
      "outputs": []
    },
    {
      "cell_type": "code",
      "metadata": {
        "id": "ssVQM7WLSK3-"
      },
      "source": [
        "def grady(img):\n",
        "    img = img.astype('int')\n",
        "    rows, cols = img.shape\n",
        "    # Use vstack to add back the rows that were dropped as zeros\n",
        "    return np.vstack( (np.zeros((1, cols)), (img[2:, :] - img[:-2, :])/2.0, np.zeros((1, cols))) )"
      ],
      "execution_count": 3,
      "outputs": []
    },
    {
      "cell_type": "code",
      "metadata": {
        "id": "0dPlG9v2SXkI"
      },
      "source": [
        "#Performs fast radial symmetry transform\n",
        "#img: input image, grayscale\n",
        "#radii: integer value for radius size in pixels (n in the original paper); also used to size gaussian kernel\n",
        "#alpha: Strictness of symmetry transform (higher=more strict; 2 is good place to start)\n",
        "#beta: gradient threshold parameter, float in [0,1]\n",
        "#stdFactor: Standard deviation factor for gaussian kernel\n",
        "#mode: BRIGHT, DARK, or BOTH\n",
        "def frst(img, radii, alpha, beta, stdFactor, mode='BOTH'):\n",
        "    mode = mode.upper()\n",
        "    assert mode in ['BRIGHT', 'DARK', 'BOTH']\n",
        "    dark = (mode == 'DARK' or mode == 'BOTH')\n",
        "    bright = (mode == 'BRIGHT' or mode == 'BOTH')\n",
        "\n",
        "    workingDims = tuple((e + 2*radii) for e in img.shape)\n",
        "\n",
        "    #M and O working matrices\n",
        "    O_n = np.zeros(workingDims, np.int16)\n",
        "    M_n = np.zeros(workingDims, np.int16)\n",
        "\n",
        "    #Calculate gradients\n",
        "    gx = gradx(img)\n",
        "    gy = grady(img)\n",
        "\n",
        "    #Find gradient vector magnitude\n",
        "    gnorms = np.sqrt( np.add( np.multiply(gx, gx) , np.multiply(gy, gy) ) )\n",
        "\n",
        "    #Use beta to set threshold - speeds up transform significantly\n",
        "    gthresh = np.amax(gnorms)*beta\n",
        "\n",
        "    #Find x/y distance to affected pixels\n",
        "    gpx = np.multiply(np.divide(gx, gnorms, out=np.zeros(gx.shape), where=gnorms!=0), radii).round().astype(int);\n",
        "    gpy = np.multiply(np.divide(gy, gnorms, out=np.zeros(gy.shape), where=gnorms!=0), radii).round().astype(int);\n",
        "\n",
        "    #Iterate over all pixels (w/ gradient above threshold)\n",
        "    for coords, gnorm in np.ndenumerate(gnorms):\n",
        "        if gnorm > gthresh:\n",
        "            i, j = coords\n",
        "            #Positively affected pixel\n",
        "            if bright:\n",
        "                ppve = (i+gpy[i,j]+radii, j+gpx[i,j]+radii)\n",
        "                O_n[ppve] += 1\n",
        "                M_n[ppve] += gnorm\n",
        "            #Negatively affected pixel\n",
        "            if dark:\n",
        "                pnve = (i-gpy[i,j]+radii, j-gpx[i,j]+radii)\n",
        "                O_n[pnve] -= 1\n",
        "                M_n[pnve] -= gnorm\n",
        "\n",
        "    \n",
        "\n",
        "    #Abs and normalize O matrix\n",
        "    O_n = np.abs(O_n)\n",
        "    O_n = O_n / float(np.amax(O_n))\n",
        "\n",
        "    #Normalize M matrix\n",
        "    M_max = float(np.amax(np.abs(M_n)))\n",
        "    M_n = M_n / M_max\n",
        "\n",
        "    #Elementwise multiplication\n",
        "    F_n = np.multiply(np.power(O_n, alpha), M_n)\n",
        "\n",
        "    #Gaussian blur\n",
        "    kSize = int( np.ceil( radii / 2 ) )\n",
        "    kSize = kSize + 1 if kSize % 2 == 0 else kSize\n",
        "\n",
        "    S = cv2.GaussianBlur(F_n, (kSize, kSize), int( radii * stdFactor ))\n",
        "    \n",
        "    return S[radii:-radii,radii:-radii]"
      ],
      "execution_count": 4,
      "outputs": []
    },
    {
      "cell_type": "code",
      "metadata": {
        "id": "e_RzcFqR9CLt"
      },
      "source": [
        "file_path = \"/content/gdrive/MyDrive/mouse_eye_tracking/fixedSFblink.avi\"\n",
        "vidcap = cv2.VideoCapture(file_path)\n",
        "\n",
        "#file_path = \"/content/gdrive/MyDrive/mouse_eye_tracking/Black_Circle.jpg\"\n",
        "#frame = cv2.imread(file_path)\n",
        "#cv2_imshow(frame)\n",
        "#print(frame.shape)"
      ],
      "execution_count": 35,
      "outputs": []
    },
    {
      "cell_type": "code",
      "metadata": {
        "id": "z7wH5r0oF0jd",
        "colab": {
          "base_uri": "https://localhost:8080/",
          "height": 112
        },
        "outputId": "43d644f1-fdfd-4a0f-f3dd-2959f7d5dd28"
      },
      "source": [
        "ret, frame = vidcap.read()\n",
        "for i in range(2000):\n",
        "    ret, frame = vidcap.read()\n",
        "frame = frame[80:175, 100:200]\n",
        "cv2_imshow(frame)"
      ],
      "execution_count": 45,
      "outputs": [
        {
          "output_type": "display_data",
          "data": {
            "image/png": "[encoded data removed]",
            "text/plain": [
              "<PIL.Image.Image image mode=RGB size=100x95 at 0x7FD45B258470>"
            ]
          },
          "metadata": {
            "tags": []
          }
        }
      ]
    },
    {
      "cell_type": "code",
      "metadata": {
        "id": "NXYfSYbqvtrb",
        "colab": {
          "base_uri": "https://localhost:8080/",
          "height": 146
        },
        "outputId": "af408205-d6c4-4e60-f676-34de12d18f94"
      },
      "source": [
        "ten = frst(cv2.cvtColor(frame, cv2.COLOR_BGR2GRAY), 10, 2, 0.2, 5, mode='DARK')\n",
        "twelve = frst(cv2.cvtColor(frame, cv2.COLOR_BGR2GRAY), 12, 2, 0.2, 6, mode='DARK')\n",
        "fourteen = frst(cv2.cvtColor(frame, cv2.COLOR_BGR2GRAY), 14, 2, 0.2, 7, mode='DARK')\n",
        "\n",
        "arr2D = np.add(ten, twelve, fourteen)\n",
        "\n",
        "#cv2_imshow(np.multiply(np.abs(arr2D), 10000))\n",
        "\n",
        "eye = np.unravel_index(arr2D.argmin(), arr2D.shape)\n",
        "print(eye)\n",
        "print(frame.shape)\n",
        "cv2.circle(frame, eye, 5, (0,0,255))\n",
        "cv2_imshow(frame)\n",
        "#cv2_imshow(cv2.cvtColor(frame, cv2.COLOR_BGR2GRAY))"
      ],
      "execution_count": 46,
      "outputs": [
        {
          "output_type": "stream",
          "text": [
            "(77, 37)\n",
            "(95, 100, 3)\n"
          ],
          "name": "stdout"
        },
        {
          "output_type": "display_data",
          "data": {
            "image/png": "[encoded data removed]",
            "text/plain": [
              "<PIL.Image.Image image mode=RGB size=100x95 at 0x7FD45B24C128>"
            ]
          },
          "metadata": {
            "tags": []
          }
        }
      ]
    },
    {
      "cell_type": "code",
      "metadata": {
        "id": "I72IisyNp6U4",
        "colab": {
          "base_uri": "https://localhost:8080/",
          "height": 207
        },
        "outputId": "a1aa6676-2c1d-4603-f2f6-03ea98481dcf"
      },
      "source": [
        "cv2_imshow(np.multiply(arr2D, -10000))\n",
        "cv2_imshow(np.multiply(arr2D, 10000))"
      ],
      "execution_count": 47,
      "outputs": [
        {
          "output_type": "display_data",
          "data": {
            "image/png": "[encoded data removed]",
            "text/plain": [
              "<PIL.Image.Image image mode=L size=100x95 at 0x7FD459A0DEF0>"
            ]
          },
          "metadata": {
            "tags": []
          }
        },
        {
          "output_type": "display_data",
          "data": {
            "image/png": "[encoded data removed]",
            "text/plain": [
              "<PIL.Image.Image image mode=L size=100x95 at 0x7FD459A0D2B0>"
            ]
          },
          "metadata": {
            "tags": []
          }
        }
      ]
    }
  ]
}